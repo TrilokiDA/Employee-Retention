{
 "cells": [
  {
   "cell_type": "markdown",
   "metadata": {
    "colab_type": "text",
    "id": "o1yU4bjMVFYP"
   },
   "source": [
    "# Figuring Out Which Employees May Quit"
   ]
  },
  {
   "cell_type": "code",
   "execution_count": 1,
   "metadata": {
    "colab": {
     "base_uri": "https://localhost:8080/",
     "height": 200
    },
    "colab_type": "code",
    "executionInfo": {
     "elapsed": 7901,
     "status": "ok",
     "timestamp": 1582032173592,
     "user": {
      "displayName": "Rajeev Ratan",
      "photoUrl": "https://lh3.googleusercontent.com/a-/AAuE7mCGo6aIm0tOcd5EhqWlYb0rime9sBvHS9YMpx0D2w=s64",
      "userId": "08597265227091462140"
     },
     "user_tz": 240
    },
    "id": "tP4HgyJVVFYS",
    "outputId": "a8c15d00-fabe-4a36-8667-363491bcd3a0",
    "scrolled": true
   },
   "outputs": [
    {
     "ename": "ModuleNotFoundError",
     "evalue": "No module named 'pandas_profiling'",
     "output_type": "error",
     "traceback": [
      "\u001b[1;31m---------------------------------------------------------------------------\u001b[0m",
      "\u001b[1;31mModuleNotFoundError\u001b[0m                       Traceback (most recent call last)",
      "\u001b[1;32m<ipython-input-1-3f0513e52253>\u001b[0m in \u001b[0;36m<module>\u001b[1;34m()\u001b[0m\n\u001b[0;32m      1\u001b[0m \u001b[1;32mimport\u001b[0m \u001b[0mpandas\u001b[0m \u001b[1;32mas\u001b[0m \u001b[0mpd\u001b[0m\u001b[1;33m\u001b[0m\u001b[0m\n\u001b[0;32m      2\u001b[0m \u001b[1;32mimport\u001b[0m \u001b[0mnumpy\u001b[0m \u001b[1;32mas\u001b[0m \u001b[0mnp\u001b[0m\u001b[1;33m\u001b[0m\u001b[0m\n\u001b[1;32m----> 3\u001b[1;33m \u001b[1;32mfrom\u001b[0m \u001b[0mpandas_profiling\u001b[0m \u001b[1;32mimport\u001b[0m \u001b[0mProfileReport\u001b[0m\u001b[1;33m\u001b[0m\u001b[0m\n\u001b[0m",
      "\u001b[1;31mModuleNotFoundError\u001b[0m: No module named 'pandas_profiling'"
     ]
    }
   ],
   "source": [
    "import pandas as pd\n",
    "import numpy as np\n",
    "from pandas_profiling import ProfileReport"
   ]
  },
  {
   "cell_type": "markdown",
   "metadata": {},
   "source": [
    "### Load hr data"
   ]
  },
  {
   "cell_type": "code",
   "execution_count": 2,
   "metadata": {},
   "outputs": [
    {
     "data": {
      "text/plain": [
       "(14999, 9)"
      ]
     },
     "execution_count": 2,
     "metadata": {},
     "output_type": "execute_result"
    }
   ],
   "source": [
    "hr_df = pd.read_csv(r\"E:\\Triloki\\Triloki\\Udemy\\Case_Studies\\hr_data.csv\")\n",
    "\n",
    "#shape of df\n",
    "hr_df.shape"
   ]
  },
  {
   "cell_type": "code",
   "execution_count": 3,
   "metadata": {},
   "outputs": [
    {
     "data": {
      "text/html": [
       "<div>\n",
       "<style>\n",
       "    .dataframe thead tr:only-child th {\n",
       "        text-align: right;\n",
       "    }\n",
       "\n",
       "    .dataframe thead th {\n",
       "        text-align: left;\n",
       "    }\n",
       "\n",
       "    .dataframe tbody tr th {\n",
       "        vertical-align: top;\n",
       "    }\n",
       "</style>\n",
       "<table border=\"1\" class=\"dataframe\">\n",
       "  <thead>\n",
       "    <tr style=\"text-align: right;\">\n",
       "      <th></th>\n",
       "      <th>employee_id</th>\n",
       "      <th>number_project</th>\n",
       "      <th>average_montly_hours</th>\n",
       "      <th>time_spend_company</th>\n",
       "      <th>Work_accident</th>\n",
       "      <th>left</th>\n",
       "      <th>promotion_last_5years</th>\n",
       "      <th>department</th>\n",
       "      <th>salary</th>\n",
       "    </tr>\n",
       "  </thead>\n",
       "  <tbody>\n",
       "    <tr>\n",
       "      <th>0</th>\n",
       "      <td>1003</td>\n",
       "      <td>2</td>\n",
       "      <td>157</td>\n",
       "      <td>3</td>\n",
       "      <td>0</td>\n",
       "      <td>1</td>\n",
       "      <td>0</td>\n",
       "      <td>sales</td>\n",
       "      <td>low</td>\n",
       "    </tr>\n",
       "    <tr>\n",
       "      <th>1</th>\n",
       "      <td>1005</td>\n",
       "      <td>5</td>\n",
       "      <td>262</td>\n",
       "      <td>6</td>\n",
       "      <td>0</td>\n",
       "      <td>1</td>\n",
       "      <td>0</td>\n",
       "      <td>sales</td>\n",
       "      <td>medium</td>\n",
       "    </tr>\n",
       "    <tr>\n",
       "      <th>2</th>\n",
       "      <td>1486</td>\n",
       "      <td>7</td>\n",
       "      <td>272</td>\n",
       "      <td>4</td>\n",
       "      <td>0</td>\n",
       "      <td>1</td>\n",
       "      <td>0</td>\n",
       "      <td>sales</td>\n",
       "      <td>medium</td>\n",
       "    </tr>\n",
       "  </tbody>\n",
       "</table>\n",
       "</div>"
      ],
      "text/plain": [
       "   employee_id  number_project  average_montly_hours  time_spend_company  \\\n",
       "0         1003               2                   157                   3   \n",
       "1         1005               5                   262                   6   \n",
       "2         1486               7                   272                   4   \n",
       "\n",
       "   Work_accident  left  promotion_last_5years department  salary  \n",
       "0              0     1                      0      sales     low  \n",
       "1              0     1                      0      sales  medium  \n",
       "2              0     1                      0      sales  medium  "
      ]
     },
     "execution_count": 3,
     "metadata": {},
     "output_type": "execute_result"
    }
   ],
   "source": [
    "# head of df\n",
    "hr_df.head(3)"
   ]
  },
  {
   "cell_type": "code",
   "execution_count": 4,
   "metadata": {
    "colab": {
     "base_uri": "https://localhost:8080/",
     "height": 200
    },
    "colab_type": "code",
    "executionInfo": {
     "elapsed": 7882,
     "status": "ok",
     "timestamp": 1582032173595,
     "user": {
      "displayName": "Rajeev Ratan",
      "photoUrl": "https://lh3.googleusercontent.com/a-/AAuE7mCGo6aIm0tOcd5EhqWlYb0rime9sBvHS9YMpx0D2w=s64",
      "userId": "08597265227091462140"
     },
     "user_tz": 240
    },
    "id": "QPzmu708WWhl",
    "outputId": "bc19950d-9243-42c5-8f65-a0bf3638ecc4"
   },
   "outputs": [
    {
     "data": {
      "text/html": [
       "<div>\n",
       "<style>\n",
       "    .dataframe thead tr:only-child th {\n",
       "        text-align: right;\n",
       "    }\n",
       "\n",
       "    .dataframe thead th {\n",
       "        text-align: left;\n",
       "    }\n",
       "\n",
       "    .dataframe tbody tr th {\n",
       "        vertical-align: top;\n",
       "    }\n",
       "</style>\n",
       "<table border=\"1\" class=\"dataframe\">\n",
       "  <thead>\n",
       "    <tr style=\"text-align: right;\">\n",
       "      <th></th>\n",
       "      <th>employee_id</th>\n",
       "      <th>number_project</th>\n",
       "      <th>average_montly_hours</th>\n",
       "      <th>time_spend_company</th>\n",
       "      <th>Work_accident</th>\n",
       "      <th>left</th>\n",
       "      <th>promotion_last_5years</th>\n",
       "      <th>department</th>\n",
       "      <th>salary</th>\n",
       "    </tr>\n",
       "  </thead>\n",
       "  <tbody>\n",
       "    <tr>\n",
       "      <th>14996</th>\n",
       "      <td>87679</td>\n",
       "      <td>2</td>\n",
       "      <td>143</td>\n",
       "      <td>3</td>\n",
       "      <td>0</td>\n",
       "      <td>1</td>\n",
       "      <td>0</td>\n",
       "      <td>support</td>\n",
       "      <td>low</td>\n",
       "    </tr>\n",
       "    <tr>\n",
       "      <th>14997</th>\n",
       "      <td>87681</td>\n",
       "      <td>6</td>\n",
       "      <td>280</td>\n",
       "      <td>4</td>\n",
       "      <td>0</td>\n",
       "      <td>1</td>\n",
       "      <td>0</td>\n",
       "      <td>support</td>\n",
       "      <td>low</td>\n",
       "    </tr>\n",
       "    <tr>\n",
       "      <th>14998</th>\n",
       "      <td>87684</td>\n",
       "      <td>2</td>\n",
       "      <td>158</td>\n",
       "      <td>3</td>\n",
       "      <td>0</td>\n",
       "      <td>1</td>\n",
       "      <td>0</td>\n",
       "      <td>support</td>\n",
       "      <td>low</td>\n",
       "    </tr>\n",
       "  </tbody>\n",
       "</table>\n",
       "</div>"
      ],
      "text/plain": [
       "       employee_id  number_project  average_montly_hours  time_spend_company  \\\n",
       "14996        87679               2                   143                   3   \n",
       "14997        87681               6                   280                   4   \n",
       "14998        87684               2                   158                   3   \n",
       "\n",
       "       Work_accident  left  promotion_last_5years department salary  \n",
       "14996              0     1                      0    support    low  \n",
       "14997              0     1                      0    support    low  \n",
       "14998              0     1                      0    support    low  "
      ]
     },
     "execution_count": 4,
     "metadata": {},
     "output_type": "execute_result"
    }
   ],
   "source": [
    "# bottom of df\n",
    "hr_df.tail(3)"
   ]
  },
  {
   "cell_type": "code",
   "execution_count": 5,
   "metadata": {
    "colab": {
     "base_uri": "https://localhost:8080/",
     "height": 266
    },
    "colab_type": "code",
    "executionInfo": {
     "elapsed": 7865,
     "status": "ok",
     "timestamp": 1582032173596,
     "user": {
      "displayName": "Rajeev Ratan",
      "photoUrl": "https://lh3.googleusercontent.com/a-/AAuE7mCGo6aIm0tOcd5EhqWlYb0rime9sBvHS9YMpx0D2w=s64",
      "userId": "08597265227091462140"
     },
     "user_tz": 240
    },
    "id": "ejatsdkCYTOk",
    "outputId": "4c62738a-e78f-4be6-c483-94283125c52c"
   },
   "outputs": [
    {
     "name": "stdout",
     "output_type": "stream",
     "text": [
      "<class 'pandas.core.frame.DataFrame'>\n",
      "RangeIndex: 14999 entries, 0 to 14998\n",
      "Data columns (total 9 columns):\n",
      "employee_id              14999 non-null int64\n",
      "number_project           14999 non-null int64\n",
      "average_montly_hours     14999 non-null int64\n",
      "time_spend_company       14999 non-null int64\n",
      "Work_accident            14999 non-null int64\n",
      "left                     14999 non-null int64\n",
      "promotion_last_5years    14999 non-null int64\n",
      "department               14999 non-null object\n",
      "salary                   14999 non-null object\n",
      "dtypes: int64(7), object(2)\n",
      "memory usage: 1.0+ MB\n"
     ]
    }
   ],
   "source": [
    "hr_df.info()"
   ]
  },
  {
   "cell_type": "code",
   "execution_count": 6,
   "metadata": {
    "colab": {
     "base_uri": "https://localhost:8080/",
     "height": 35
    },
    "colab_type": "code",
    "executionInfo": {
     "elapsed": 7853,
     "status": "ok",
     "timestamp": 1582032173597,
     "user": {
      "displayName": "Rajeev Ratan",
      "photoUrl": "https://lh3.googleusercontent.com/a-/AAuE7mCGo6aIm0tOcd5EhqWlYb0rime9sBvHS9YMpx0D2w=s64",
      "userId": "08597265227091462140"
     },
     "user_tz": 240
    },
    "id": "gPjh1ep8XCcd",
    "outputId": "2def1bca-575d-4b77-8624-b97f32a19dfb"
   },
   "outputs": [
    {
     "data": {
      "text/plain": [
       "Index(['employee_id', 'number_project', 'average_montly_hours',\n",
       "       'time_spend_company', 'Work_accident', 'left', 'promotion_last_5years',\n",
       "       'department', 'salary'],\n",
       "      dtype='object')"
      ]
     },
     "execution_count": 6,
     "metadata": {},
     "output_type": "execute_result"
    }
   ],
   "source": [
    "# which columns are categorical\n",
    "hr_df.select_dtypes(exclude=['int', 'float']).columns"
   ]
  },
  {
   "cell_type": "code",
   "execution_count": 7,
   "metadata": {
    "colab": {
     "base_uri": "https://localhost:8080/",
     "height": 70
    },
    "colab_type": "code",
    "executionInfo": {
     "elapsed": 7839,
     "status": "ok",
     "timestamp": 1582032173598,
     "user": {
      "displayName": "Rajeev Ratan",
      "photoUrl": "https://lh3.googleusercontent.com/a-/AAuE7mCGo6aIm0tOcd5EhqWlYb0rime9sBvHS9YMpx0D2w=s64",
      "userId": "08597265227091462140"
     },
     "user_tz": 240
    },
    "id": "xzpAD1gAXJm2",
    "outputId": "4c33979a-fd6d-4824-e2ff-074be892d6aa"
   },
   "outputs": [
    {
     "name": "stdout",
     "output_type": "stream",
     "text": [
      "['sales' 'accounting' 'hr' 'technical' 'support' 'management' 'IT'\n",
      " 'product_mng' 'marketing' 'RandD']\n",
      "['low' 'medium' 'high']\n"
     ]
    }
   ],
   "source": [
    "# Display values in categorical columns\n",
    "print(hr_df['department'].unique())\n",
    "print(hr_df['salary'].unique())"
   ]
  },
  {
   "cell_type": "markdown",
   "metadata": {
    "colab_type": "text",
    "id": "w7RvpiotVFYl"
   },
   "source": [
    "### Load employee satisfaction data"
   ]
  },
  {
   "cell_type": "code",
   "execution_count": 8,
   "metadata": {
    "colab": {
     "base_uri": "https://localhost:8080/",
     "height": 200
    },
    "colab_type": "code",
    "executionInfo": {
     "elapsed": 8334,
     "status": "ok",
     "timestamp": 1582032174162,
     "user": {
      "displayName": "Rajeev Ratan",
      "photoUrl": "https://lh3.googleusercontent.com/a-/AAuE7mCGo6aIm0tOcd5EhqWlYb0rime9sBvHS9YMpx0D2w=s64",
      "userId": "08597265227091462140"
     },
     "user_tz": 240
    },
    "id": "IB8Wuy0hVFYl",
    "outputId": "a80ac0e5-b9c1-4a32-d91f-a5b34204e720"
   },
   "outputs": [
    {
     "data": {
      "text/html": [
       "<div>\n",
       "<style>\n",
       "    .dataframe thead tr:only-child th {\n",
       "        text-align: right;\n",
       "    }\n",
       "\n",
       "    .dataframe thead th {\n",
       "        text-align: left;\n",
       "    }\n",
       "\n",
       "    .dataframe tbody tr th {\n",
       "        vertical-align: top;\n",
       "    }\n",
       "</style>\n",
       "<table border=\"1\" class=\"dataframe\">\n",
       "  <thead>\n",
       "    <tr style=\"text-align: right;\">\n",
       "      <th></th>\n",
       "      <th>EMPLOYEE #</th>\n",
       "      <th>satisfaction_level</th>\n",
       "      <th>last_evaluation</th>\n",
       "    </tr>\n",
       "  </thead>\n",
       "  <tbody>\n",
       "    <tr>\n",
       "      <th>0</th>\n",
       "      <td>1003</td>\n",
       "      <td>0.38</td>\n",
       "      <td>0.53</td>\n",
       "    </tr>\n",
       "    <tr>\n",
       "      <th>1</th>\n",
       "      <td>1005</td>\n",
       "      <td>0.80</td>\n",
       "      <td>0.86</td>\n",
       "    </tr>\n",
       "    <tr>\n",
       "      <th>2</th>\n",
       "      <td>1486</td>\n",
       "      <td>0.11</td>\n",
       "      <td>0.88</td>\n",
       "    </tr>\n",
       "    <tr>\n",
       "      <th>3</th>\n",
       "      <td>1038</td>\n",
       "      <td>0.72</td>\n",
       "      <td>0.87</td>\n",
       "    </tr>\n",
       "    <tr>\n",
       "      <th>4</th>\n",
       "      <td>1057</td>\n",
       "      <td>0.37</td>\n",
       "      <td>0.52</td>\n",
       "    </tr>\n",
       "  </tbody>\n",
       "</table>\n",
       "</div>"
      ],
      "text/plain": [
       "   EMPLOYEE #  satisfaction_level  last_evaluation\n",
       "0        1003                0.38             0.53\n",
       "1        1005                0.80             0.86\n",
       "2        1486                0.11             0.88\n",
       "3        1038                0.72             0.87\n",
       "4        1057                0.37             0.52"
      ]
     },
     "execution_count": 8,
     "metadata": {},
     "output_type": "execute_result"
    }
   ],
   "source": [
    "emp_satis_eval = pd.read_excel(r\"E:\\Triloki\\Triloki\\Udemy\\Case_Studies\\datascienceforbusiness-master/employee_satisfaction_evaluation.xlsx\")\n",
    "\n",
    "emp_satis_eval.head()"
   ]
  },
  {
   "cell_type": "code",
   "execution_count": 9,
   "metadata": {
    "colab": {
     "base_uri": "https://localhost:8080/",
     "height": 35
    },
    "colab_type": "code",
    "executionInfo": {
     "elapsed": 8318,
     "status": "ok",
     "timestamp": 1582032174164,
     "user": {
      "displayName": "Rajeev Ratan",
      "photoUrl": "https://lh3.googleusercontent.com/a-/AAuE7mCGo6aIm0tOcd5EhqWlYb0rime9sBvHS9YMpx0D2w=s64",
      "userId": "08597265227091462140"
     },
     "user_tz": 240
    },
    "id": "yGKsELd6ZAPH",
    "outputId": "674e722a-0583-4125-c928-d2ca8e7c390a"
   },
   "outputs": [
    {
     "data": {
      "text/plain": [
       "(14999, 3)"
      ]
     },
     "execution_count": 9,
     "metadata": {},
     "output_type": "execute_result"
    }
   ],
   "source": [
    "#shape\n",
    "emp_satis_eval.shape"
   ]
  },
  {
   "cell_type": "markdown",
   "metadata": {
    "colab_type": "text",
    "id": "uxZ5oWhTVFYq"
   },
   "source": [
    "### Join Tables"
   ]
  },
  {
   "cell_type": "code",
   "execution_count": 10,
   "metadata": {
    "colab": {
     "base_uri": "https://localhost:8080/",
     "height": 200
    },
    "colab_type": "code",
    "executionInfo": {
     "elapsed": 8292,
     "status": "ok",
     "timestamp": 1582032174166,
     "user": {
      "displayName": "Rajeev Ratan",
      "photoUrl": "https://lh3.googleusercontent.com/a-/AAuE7mCGo6aIm0tOcd5EhqWlYb0rime9sBvHS9YMpx0D2w=s64",
      "userId": "08597265227091462140"
     },
     "user_tz": 240
    },
    "id": "zBb3mz5dVFYr",
    "outputId": "7aad5487-cd41-4073-e674-1c1a9d81e8df"
   },
   "outputs": [
    {
     "data": {
      "text/html": [
       "<div>\n",
       "<style>\n",
       "    .dataframe thead tr:only-child th {\n",
       "        text-align: right;\n",
       "    }\n",
       "\n",
       "    .dataframe thead th {\n",
       "        text-align: left;\n",
       "    }\n",
       "\n",
       "    .dataframe tbody tr th {\n",
       "        vertical-align: top;\n",
       "    }\n",
       "</style>\n",
       "<table border=\"1\" class=\"dataframe\">\n",
       "  <thead>\n",
       "    <tr style=\"text-align: right;\">\n",
       "      <th></th>\n",
       "      <th>employee_id</th>\n",
       "      <th>number_project</th>\n",
       "      <th>average_montly_hours</th>\n",
       "      <th>time_spend_company</th>\n",
       "      <th>Work_accident</th>\n",
       "      <th>left</th>\n",
       "      <th>promotion_last_5years</th>\n",
       "      <th>department</th>\n",
       "      <th>salary</th>\n",
       "      <th>satisfaction_level</th>\n",
       "      <th>last_evaluation</th>\n",
       "    </tr>\n",
       "  </thead>\n",
       "  <tbody>\n",
       "    <tr>\n",
       "      <th>0</th>\n",
       "      <td>1003</td>\n",
       "      <td>2</td>\n",
       "      <td>157</td>\n",
       "      <td>3</td>\n",
       "      <td>0</td>\n",
       "      <td>1</td>\n",
       "      <td>0</td>\n",
       "      <td>sales</td>\n",
       "      <td>low</td>\n",
       "      <td>0.38</td>\n",
       "      <td>0.53</td>\n",
       "    </tr>\n",
       "    <tr>\n",
       "      <th>1</th>\n",
       "      <td>1005</td>\n",
       "      <td>5</td>\n",
       "      <td>262</td>\n",
       "      <td>6</td>\n",
       "      <td>0</td>\n",
       "      <td>1</td>\n",
       "      <td>0</td>\n",
       "      <td>sales</td>\n",
       "      <td>medium</td>\n",
       "      <td>0.80</td>\n",
       "      <td>0.86</td>\n",
       "    </tr>\n",
       "    <tr>\n",
       "      <th>2</th>\n",
       "      <td>1486</td>\n",
       "      <td>7</td>\n",
       "      <td>272</td>\n",
       "      <td>4</td>\n",
       "      <td>0</td>\n",
       "      <td>1</td>\n",
       "      <td>0</td>\n",
       "      <td>sales</td>\n",
       "      <td>medium</td>\n",
       "      <td>0.11</td>\n",
       "      <td>0.88</td>\n",
       "    </tr>\n",
       "  </tbody>\n",
       "</table>\n",
       "</div>"
      ],
      "text/plain": [
       "   employee_id  number_project  average_montly_hours  time_spend_company  \\\n",
       "0         1003               2                   157                   3   \n",
       "1         1005               5                   262                   6   \n",
       "2         1486               7                   272                   4   \n",
       "\n",
       "   Work_accident  left  promotion_last_5years department  salary  \\\n",
       "0              0     1                      0      sales     low   \n",
       "1              0     1                      0      sales  medium   \n",
       "2              0     1                      0      sales  medium   \n",
       "\n",
       "   satisfaction_level  last_evaluation  \n",
       "0                0.38             0.53  \n",
       "1                0.80             0.86  \n",
       "2                0.11             0.88  "
      ]
     },
     "execution_count": 10,
     "metadata": {},
     "output_type": "execute_result"
    }
   ],
   "source": [
    "main_df = hr_df.set_index('employee_id').join(emp_satis_eval.set_index('EMPLOYEE #'))\n",
    "main_df = main_df.reset_index()\n",
    "main_df.head(3)"
   ]
  },
  {
   "cell_type": "markdown",
   "metadata": {
    "colab_type": "text",
    "id": "pW6ujmDQVFYt"
   },
   "source": [
    "### Checking missing values?"
   ]
  },
  {
   "cell_type": "code",
   "execution_count": 11,
   "metadata": {
    "colab": {
     "base_uri": "https://localhost:8080/",
     "height": 1000
    },
    "colab_type": "code",
    "executionInfo": {
     "elapsed": 8263,
     "status": "ok",
     "timestamp": 1582032174167,
     "user": {
      "displayName": "Rajeev Ratan",
      "photoUrl": "https://lh3.googleusercontent.com/a-/AAuE7mCGo6aIm0tOcd5EhqWlYb0rime9sBvHS9YMpx0D2w=s64",
      "userId": "08597265227091462140"
     },
     "user_tz": 240
    },
    "id": "iHFImujqVFYu",
    "outputId": "a617f1ed-be33-413d-89c1-7f24adeea388"
   },
   "outputs": [
    {
     "data": {
      "text/plain": [
       "employee_id               0\n",
       "number_project            0\n",
       "average_montly_hours      0\n",
       "time_spend_company        0\n",
       "Work_accident             0\n",
       "left                      0\n",
       "promotion_last_5years     0\n",
       "department                0\n",
       "salary                    0\n",
       "satisfaction_level       27\n",
       "last_evaluation          27\n",
       "dtype: int64"
      ]
     },
     "execution_count": 11,
     "metadata": {},
     "output_type": "execute_result"
    }
   ],
   "source": [
    "main_df.isnull().sum()"
   ]
  },
  {
   "cell_type": "markdown",
   "metadata": {
    "colab_type": "text",
    "id": "wj-hhzY0VFYw"
   },
   "source": [
    "### Fill the missing blanks with the aveage values"
   ]
  },
  {
   "cell_type": "code",
   "execution_count": 12,
   "metadata": {
    "colab": {
     "base_uri": "https://localhost:8080/",
     "height": 291
    },
    "colab_type": "code",
    "executionInfo": {
     "elapsed": 8243,
     "status": "ok",
     "timestamp": 1582032174169,
     "user": {
      "displayName": "Rajeev Ratan",
      "photoUrl": "https://lh3.googleusercontent.com/a-/AAuE7mCGo6aIm0tOcd5EhqWlYb0rime9sBvHS9YMpx0D2w=s64",
      "userId": "08597265227091462140"
     },
     "user_tz": 240
    },
    "id": "lLuUfXrLVFYx",
    "outputId": "b7959ab1-aa99-4220-87db-9965ab9e231b"
   },
   "outputs": [
    {
     "data": {
      "text/html": [
       "<div>\n",
       "<style>\n",
       "    .dataframe thead tr:only-child th {\n",
       "        text-align: right;\n",
       "    }\n",
       "\n",
       "    .dataframe thead th {\n",
       "        text-align: left;\n",
       "    }\n",
       "\n",
       "    .dataframe tbody tr th {\n",
       "        vertical-align: top;\n",
       "    }\n",
       "</style>\n",
       "<table border=\"1\" class=\"dataframe\">\n",
       "  <thead>\n",
       "    <tr style=\"text-align: right;\">\n",
       "      <th></th>\n",
       "      <th>employee_id</th>\n",
       "      <th>number_project</th>\n",
       "      <th>average_montly_hours</th>\n",
       "      <th>time_spend_company</th>\n",
       "      <th>Work_accident</th>\n",
       "      <th>left</th>\n",
       "      <th>promotion_last_5years</th>\n",
       "      <th>satisfaction_level</th>\n",
       "      <th>last_evaluation</th>\n",
       "    </tr>\n",
       "  </thead>\n",
       "  <tbody>\n",
       "    <tr>\n",
       "      <th>count</th>\n",
       "      <td>14999.000000</td>\n",
       "      <td>14999.000000</td>\n",
       "      <td>14999.000000</td>\n",
       "      <td>14999.000000</td>\n",
       "      <td>14999.000000</td>\n",
       "      <td>14999.000000</td>\n",
       "      <td>14999.000000</td>\n",
       "      <td>14972.000000</td>\n",
       "      <td>14972.000000</td>\n",
       "    </tr>\n",
       "    <tr>\n",
       "      <th>mean</th>\n",
       "      <td>45424.627575</td>\n",
       "      <td>3.803054</td>\n",
       "      <td>201.050337</td>\n",
       "      <td>3.498233</td>\n",
       "      <td>0.144610</td>\n",
       "      <td>0.238083</td>\n",
       "      <td>0.021268</td>\n",
       "      <td>0.612830</td>\n",
       "      <td>0.716125</td>\n",
       "    </tr>\n",
       "    <tr>\n",
       "      <th>std</th>\n",
       "      <td>25915.900127</td>\n",
       "      <td>1.232592</td>\n",
       "      <td>49.943099</td>\n",
       "      <td>1.460136</td>\n",
       "      <td>0.351719</td>\n",
       "      <td>0.425924</td>\n",
       "      <td>0.144281</td>\n",
       "      <td>0.248714</td>\n",
       "      <td>0.171138</td>\n",
       "    </tr>\n",
       "    <tr>\n",
       "      <th>min</th>\n",
       "      <td>1003.000000</td>\n",
       "      <td>2.000000</td>\n",
       "      <td>96.000000</td>\n",
       "      <td>2.000000</td>\n",
       "      <td>0.000000</td>\n",
       "      <td>0.000000</td>\n",
       "      <td>0.000000</td>\n",
       "      <td>0.090000</td>\n",
       "      <td>0.360000</td>\n",
       "    </tr>\n",
       "    <tr>\n",
       "      <th>25%</th>\n",
       "      <td>22872.500000</td>\n",
       "      <td>3.000000</td>\n",
       "      <td>156.000000</td>\n",
       "      <td>3.000000</td>\n",
       "      <td>0.000000</td>\n",
       "      <td>0.000000</td>\n",
       "      <td>0.000000</td>\n",
       "      <td>0.440000</td>\n",
       "      <td>0.560000</td>\n",
       "    </tr>\n",
       "    <tr>\n",
       "      <th>50%</th>\n",
       "      <td>45448.000000</td>\n",
       "      <td>4.000000</td>\n",
       "      <td>200.000000</td>\n",
       "      <td>3.000000</td>\n",
       "      <td>0.000000</td>\n",
       "      <td>0.000000</td>\n",
       "      <td>0.000000</td>\n",
       "      <td>0.640000</td>\n",
       "      <td>0.720000</td>\n",
       "    </tr>\n",
       "    <tr>\n",
       "      <th>75%</th>\n",
       "      <td>67480.500000</td>\n",
       "      <td>5.000000</td>\n",
       "      <td>245.000000</td>\n",
       "      <td>4.000000</td>\n",
       "      <td>0.000000</td>\n",
       "      <td>0.000000</td>\n",
       "      <td>0.000000</td>\n",
       "      <td>0.820000</td>\n",
       "      <td>0.870000</td>\n",
       "    </tr>\n",
       "    <tr>\n",
       "      <th>max</th>\n",
       "      <td>99815.000000</td>\n",
       "      <td>7.000000</td>\n",
       "      <td>310.000000</td>\n",
       "      <td>10.000000</td>\n",
       "      <td>1.000000</td>\n",
       "      <td>1.000000</td>\n",
       "      <td>1.000000</td>\n",
       "      <td>1.000000</td>\n",
       "      <td>1.000000</td>\n",
       "    </tr>\n",
       "  </tbody>\n",
       "</table>\n",
       "</div>"
      ],
      "text/plain": [
       "        employee_id  number_project  average_montly_hours  time_spend_company  \\\n",
       "count  14999.000000    14999.000000          14999.000000        14999.000000   \n",
       "mean   45424.627575        3.803054            201.050337            3.498233   \n",
       "std    25915.900127        1.232592             49.943099            1.460136   \n",
       "min     1003.000000        2.000000             96.000000            2.000000   \n",
       "25%    22872.500000        3.000000            156.000000            3.000000   \n",
       "50%    45448.000000        4.000000            200.000000            3.000000   \n",
       "75%    67480.500000        5.000000            245.000000            4.000000   \n",
       "max    99815.000000        7.000000            310.000000           10.000000   \n",
       "\n",
       "       Work_accident          left  promotion_last_5years  satisfaction_level  \\\n",
       "count   14999.000000  14999.000000           14999.000000        14972.000000   \n",
       "mean        0.144610      0.238083               0.021268            0.612830   \n",
       "std         0.351719      0.425924               0.144281            0.248714   \n",
       "min         0.000000      0.000000               0.000000            0.090000   \n",
       "25%         0.000000      0.000000               0.000000            0.440000   \n",
       "50%         0.000000      0.000000               0.000000            0.640000   \n",
       "75%         0.000000      0.000000               0.000000            0.820000   \n",
       "max         1.000000      1.000000               1.000000            1.000000   \n",
       "\n",
       "       last_evaluation  \n",
       "count     14972.000000  \n",
       "mean          0.716125  \n",
       "std           0.171138  \n",
       "min           0.360000  \n",
       "25%           0.560000  \n",
       "50%           0.720000  \n",
       "75%           0.870000  \n",
       "max           1.000000  "
      ]
     },
     "execution_count": 12,
     "metadata": {},
     "output_type": "execute_result"
    }
   ],
   "source": [
    "main_df.describe()"
   ]
  },
  {
   "cell_type": "code",
   "execution_count": 13,
   "metadata": {
    "colab": {
     "base_uri": "https://localhost:8080/",
     "height": 200
    },
    "colab_type": "code",
    "executionInfo": {
     "elapsed": 8559,
     "status": "ok",
     "timestamp": 1582032174502,
     "user": {
      "displayName": "Rajeev Ratan",
      "photoUrl": "https://lh3.googleusercontent.com/a-/AAuE7mCGo6aIm0tOcd5EhqWlYb0rime9sBvHS9YMpx0D2w=s64",
      "userId": "08597265227091462140"
     },
     "user_tz": 240
    },
    "id": "E0lI2wquVFYz",
    "outputId": "c5d80841-614d-4d55-fb17-7fe95fa8b878"
   },
   "outputs": [
    {
     "data": {
      "text/html": [
       "<div>\n",
       "<style>\n",
       "    .dataframe thead tr:only-child th {\n",
       "        text-align: right;\n",
       "    }\n",
       "\n",
       "    .dataframe thead th {\n",
       "        text-align: left;\n",
       "    }\n",
       "\n",
       "    .dataframe tbody tr th {\n",
       "        vertical-align: top;\n",
       "    }\n",
       "</style>\n",
       "<table border=\"1\" class=\"dataframe\">\n",
       "  <thead>\n",
       "    <tr style=\"text-align: right;\">\n",
       "      <th></th>\n",
       "      <th>employee_id</th>\n",
       "      <th>number_project</th>\n",
       "      <th>average_montly_hours</th>\n",
       "      <th>time_spend_company</th>\n",
       "      <th>Work_accident</th>\n",
       "      <th>left</th>\n",
       "      <th>promotion_last_5years</th>\n",
       "      <th>department</th>\n",
       "      <th>salary</th>\n",
       "      <th>satisfaction_level</th>\n",
       "      <th>last_evaluation</th>\n",
       "    </tr>\n",
       "  </thead>\n",
       "  <tbody>\n",
       "    <tr>\n",
       "      <th>0</th>\n",
       "      <td>1003</td>\n",
       "      <td>2</td>\n",
       "      <td>157</td>\n",
       "      <td>3</td>\n",
       "      <td>0</td>\n",
       "      <td>1</td>\n",
       "      <td>0</td>\n",
       "      <td>sales</td>\n",
       "      <td>low</td>\n",
       "      <td>0.38</td>\n",
       "      <td>0.53</td>\n",
       "    </tr>\n",
       "    <tr>\n",
       "      <th>1</th>\n",
       "      <td>1005</td>\n",
       "      <td>5</td>\n",
       "      <td>262</td>\n",
       "      <td>6</td>\n",
       "      <td>0</td>\n",
       "      <td>1</td>\n",
       "      <td>0</td>\n",
       "      <td>sales</td>\n",
       "      <td>medium</td>\n",
       "      <td>0.80</td>\n",
       "      <td>0.86</td>\n",
       "    </tr>\n",
       "    <tr>\n",
       "      <th>2</th>\n",
       "      <td>1486</td>\n",
       "      <td>7</td>\n",
       "      <td>272</td>\n",
       "      <td>4</td>\n",
       "      <td>0</td>\n",
       "      <td>1</td>\n",
       "      <td>0</td>\n",
       "      <td>sales</td>\n",
       "      <td>medium</td>\n",
       "      <td>0.11</td>\n",
       "      <td>0.88</td>\n",
       "    </tr>\n",
       "  </tbody>\n",
       "</table>\n",
       "</div>"
      ],
      "text/plain": [
       "   employee_id  number_project  average_montly_hours  time_spend_company  \\\n",
       "0         1003               2                   157                   3   \n",
       "1         1005               5                   262                   6   \n",
       "2         1486               7                   272                   4   \n",
       "\n",
       "   Work_accident  left  promotion_last_5years department  salary  \\\n",
       "0              0     1                      0      sales     low   \n",
       "1              0     1                      0      sales  medium   \n",
       "2              0     1                      0      sales  medium   \n",
       "\n",
       "   satisfaction_level  last_evaluation  \n",
       "0                0.38             0.53  \n",
       "1                0.80             0.86  \n",
       "2                0.11             0.88  "
      ]
     },
     "execution_count": 13,
     "metadata": {},
     "output_type": "execute_result"
    }
   ],
   "source": [
    "main_df.fillna(main_df.mean(), inplace=True)\n",
    "main_df.head(3)"
   ]
  },
  {
   "cell_type": "code",
   "execution_count": 14,
   "metadata": {
    "colab": {
     "base_uri": "https://localhost:8080/",
     "height": 78
    },
    "colab_type": "code",
    "executionInfo": {
     "elapsed": 8539,
     "status": "ok",
     "timestamp": 1582032174504,
     "user": {
      "displayName": "Rajeev Ratan",
      "photoUrl": "https://lh3.googleusercontent.com/a-/AAuE7mCGo6aIm0tOcd5EhqWlYb0rime9sBvHS9YMpx0D2w=s64",
      "userId": "08597265227091462140"
     },
     "user_tz": 240
    },
    "id": "pSIK12vOVFY3",
    "outputId": "94a9266e-dcd9-4fb3-9677-affe186bd889"
   },
   "outputs": [
    {
     "data": {
      "text/plain": [
       "employee_id              0\n",
       "number_project           0\n",
       "average_montly_hours     0\n",
       "time_spend_company       0\n",
       "Work_accident            0\n",
       "left                     0\n",
       "promotion_last_5years    0\n",
       "department               0\n",
       "salary                   0\n",
       "satisfaction_level       0\n",
       "last_evaluation          0\n",
       "dtype: int64"
      ]
     },
     "execution_count": 14,
     "metadata": {},
     "output_type": "execute_result"
    }
   ],
   "source": [
    "main_df.isnull().sum()"
   ]
  },
  {
   "cell_type": "code",
   "execution_count": 15,
   "metadata": {
    "colab": {
     "base_uri": "https://localhost:8080/",
     "height": 200
    },
    "colab_type": "code",
    "executionInfo": {
     "elapsed": 8492,
     "status": "ok",
     "timestamp": 1582032174506,
     "user": {
      "displayName": "Rajeev Ratan",
      "photoUrl": "https://lh3.googleusercontent.com/a-/AAuE7mCGo6aIm0tOcd5EhqWlYb0rime9sBvHS9YMpx0D2w=s64",
      "userId": "08597265227091462140"
     },
     "user_tz": 240
    },
    "id": "12HnW51pVFY9",
    "outputId": "4d8cdb6e-6da7-4ada-f080-6f138191a778"
   },
   "outputs": [
    {
     "data": {
      "text/html": [
       "<div>\n",
       "<style>\n",
       "    .dataframe thead tr:only-child th {\n",
       "        text-align: right;\n",
       "    }\n",
       "\n",
       "    .dataframe thead th {\n",
       "        text-align: left;\n",
       "    }\n",
       "\n",
       "    .dataframe tbody tr th {\n",
       "        vertical-align: top;\n",
       "    }\n",
       "</style>\n",
       "<table border=\"1\" class=\"dataframe\">\n",
       "  <thead>\n",
       "    <tr style=\"text-align: right;\">\n",
       "      <th></th>\n",
       "      <th>number_project</th>\n",
       "      <th>average_montly_hours</th>\n",
       "      <th>time_spend_company</th>\n",
       "      <th>Work_accident</th>\n",
       "      <th>left</th>\n",
       "      <th>promotion_last_5years</th>\n",
       "      <th>department</th>\n",
       "      <th>salary</th>\n",
       "      <th>satisfaction_level</th>\n",
       "      <th>last_evaluation</th>\n",
       "    </tr>\n",
       "  </thead>\n",
       "  <tbody>\n",
       "    <tr>\n",
       "      <th>0</th>\n",
       "      <td>2</td>\n",
       "      <td>157</td>\n",
       "      <td>3</td>\n",
       "      <td>0</td>\n",
       "      <td>1</td>\n",
       "      <td>0</td>\n",
       "      <td>sales</td>\n",
       "      <td>low</td>\n",
       "      <td>0.38</td>\n",
       "      <td>0.53</td>\n",
       "    </tr>\n",
       "    <tr>\n",
       "      <th>1</th>\n",
       "      <td>5</td>\n",
       "      <td>262</td>\n",
       "      <td>6</td>\n",
       "      <td>0</td>\n",
       "      <td>1</td>\n",
       "      <td>0</td>\n",
       "      <td>sales</td>\n",
       "      <td>medium</td>\n",
       "      <td>0.80</td>\n",
       "      <td>0.86</td>\n",
       "    </tr>\n",
       "    <tr>\n",
       "      <th>2</th>\n",
       "      <td>7</td>\n",
       "      <td>272</td>\n",
       "      <td>4</td>\n",
       "      <td>0</td>\n",
       "      <td>1</td>\n",
       "      <td>0</td>\n",
       "      <td>sales</td>\n",
       "      <td>medium</td>\n",
       "      <td>0.11</td>\n",
       "      <td>0.88</td>\n",
       "    </tr>\n",
       "    <tr>\n",
       "      <th>3</th>\n",
       "      <td>5</td>\n",
       "      <td>223</td>\n",
       "      <td>5</td>\n",
       "      <td>0</td>\n",
       "      <td>1</td>\n",
       "      <td>0</td>\n",
       "      <td>sales</td>\n",
       "      <td>low</td>\n",
       "      <td>0.72</td>\n",
       "      <td>0.87</td>\n",
       "    </tr>\n",
       "    <tr>\n",
       "      <th>4</th>\n",
       "      <td>2</td>\n",
       "      <td>159</td>\n",
       "      <td>3</td>\n",
       "      <td>0</td>\n",
       "      <td>1</td>\n",
       "      <td>0</td>\n",
       "      <td>sales</td>\n",
       "      <td>low</td>\n",
       "      <td>0.37</td>\n",
       "      <td>0.52</td>\n",
       "    </tr>\n",
       "  </tbody>\n",
       "</table>\n",
       "</div>"
      ],
      "text/plain": [
       "   number_project  average_montly_hours  time_spend_company  Work_accident  \\\n",
       "0               2                   157                   3              0   \n",
       "1               5                   262                   6              0   \n",
       "2               7                   272                   4              0   \n",
       "3               5                   223                   5              0   \n",
       "4               2                   159                   3              0   \n",
       "\n",
       "   left  promotion_last_5years department  salary  satisfaction_level  \\\n",
       "0     1                      0      sales     low                0.38   \n",
       "1     1                      0      sales  medium                0.80   \n",
       "2     1                      0      sales  medium                0.11   \n",
       "3     1                      0      sales     low                0.72   \n",
       "4     1                      0      sales     low                0.37   \n",
       "\n",
       "   last_evaluation  \n",
       "0             0.53  \n",
       "1             0.86  \n",
       "2             0.88  \n",
       "3             0.87  \n",
       "4             0.52  "
      ]
     },
     "execution_count": 15,
     "metadata": {},
     "output_type": "execute_result"
    }
   ],
   "source": [
    "# Removing employee ID\n",
    "main_df_final = main_df.drop(['employee_id'], axis=1)\n",
    "main_df_final.head()"
   ]
  },
  {
   "cell_type": "markdown",
   "metadata": {
    "colab_type": "text",
    "id": "4qV748i1VFZE"
   },
   "source": [
    "### Displaying Correlation Matrix"
   ]
  },
  {
   "cell_type": "code",
   "execution_count": 16,
   "metadata": {
    "colab": {
     "base_uri": "https://localhost:8080/",
     "height": 664
    },
    "colab_type": "code",
    "executionInfo": {
     "elapsed": 8821,
     "status": "ok",
     "timestamp": 1582032174938,
     "user": {
      "displayName": "Rajeev Ratan",
      "photoUrl": "https://lh3.googleusercontent.com/a-/AAuE7mCGo6aIm0tOcd5EhqWlYb0rime9sBvHS9YMpx0D2w=s64",
      "userId": "08597265227091462140"
     },
     "user_tz": 240
    },
    "id": "X2WWVwTbVFZF",
    "outputId": "c1c251ae-b80f-4612-efa5-42bf948f5e65"
   },
   "outputs": [
    {
     "name": "stderr",
     "output_type": "stream",
     "text": [
      "No handles with labels found to put in legend.\n"
     ]
    },
    {
     "data": {
      "image/png": "[encoded data removed]",
      "text/plain": [
       "<matplotlib.figure.Figure at 0x23ef71ce208>"
      ]
     },
     "metadata": {},
     "output_type": "display_data"
    }
   ],
   "source": [
    "import matplotlib.pyplot as plt\n",
    "\n",
    "def plot_corr(df,size=10):\n",
    "\n",
    "    corr = df.corr()\n",
    "    fig, ax = plt.subplots(figsize=(size, size))\n",
    "    ax.legend()\n",
    "    cax = ax.matshow(corr)\n",
    "    fig.colorbar(cax)\n",
    "    plt.xticks(range(len(corr.columns)), corr.columns, rotation='vertical')\n",
    "    plt.yticks(range(len(corr.columns)), corr.columns)\n",
    "    plt.show()\n",
    "    \n",
    "plot_corr(main_df_final)"
   ]
  },
  {
   "cell_type": "markdown",
   "metadata": {
    "colab_type": "text",
    "id": "U5s4GE_0VFZN"
   },
   "source": [
    "## Preparing  Dataset for ML"
   ]
  },
  {
   "cell_type": "code",
   "execution_count": 17,
   "metadata": {
    "colab": {
     "base_uri": "https://localhost:8080/",
     "height": 220
    },
    "colab_type": "code",
    "executionInfo": {
     "elapsed": 9110,
     "status": "ok",
     "timestamp": 1582032175248,
     "user": {
      "displayName": "Rajeev Ratan",
      "photoUrl": "https://lh3.googleusercontent.com/a-/AAuE7mCGo6aIm0tOcd5EhqWlYb0rime9sBvHS9YMpx0D2w=s64",
      "userId": "08597265227091462140"
     },
     "user_tz": 240
    },
    "id": "cMwVUqzUVFZO",
    "outputId": "91666439-b0a3-4a48-ee62-06fe6345995d"
   },
   "outputs": [
    {
     "data": {
      "text/html": [
       "<div>\n",
       "<style>\n",
       "    .dataframe thead tr:only-child th {\n",
       "        text-align: right;\n",
       "    }\n",
       "\n",
       "    .dataframe thead th {\n",
       "        text-align: left;\n",
       "    }\n",
       "\n",
       "    .dataframe tbody tr th {\n",
       "        vertical-align: top;\n",
       "    }\n",
       "</style>\n",
       "<table border=\"1\" class=\"dataframe\">\n",
       "  <thead>\n",
       "    <tr style=\"text-align: right;\">\n",
       "      <th></th>\n",
       "      <th>number_project</th>\n",
       "      <th>average_montly_hours</th>\n",
       "      <th>time_spend_company</th>\n",
       "      <th>Work_accident</th>\n",
       "      <th>left</th>\n",
       "      <th>promotion_last_5years</th>\n",
       "      <th>satisfaction_level</th>\n",
       "      <th>last_evaluation</th>\n",
       "      <th>department_RandD</th>\n",
       "      <th>department_accounting</th>\n",
       "      <th>department_hr</th>\n",
       "      <th>department_management</th>\n",
       "      <th>department_marketing</th>\n",
       "      <th>department_product_mng</th>\n",
       "      <th>department_sales</th>\n",
       "      <th>department_support</th>\n",
       "      <th>department_technical</th>\n",
       "      <th>salary_low</th>\n",
       "      <th>salary_medium</th>\n",
       "    </tr>\n",
       "  </thead>\n",
       "  <tbody>\n",
       "    <tr>\n",
       "      <th>0</th>\n",
       "      <td>2</td>\n",
       "      <td>157</td>\n",
       "      <td>3</td>\n",
       "      <td>0</td>\n",
       "      <td>1</td>\n",
       "      <td>0</td>\n",
       "      <td>0.38</td>\n",
       "      <td>0.53</td>\n",
       "      <td>0</td>\n",
       "      <td>0</td>\n",
       "      <td>0</td>\n",
       "      <td>0</td>\n",
       "      <td>0</td>\n",
       "      <td>0</td>\n",
       "      <td>1</td>\n",
       "      <td>0</td>\n",
       "      <td>0</td>\n",
       "      <td>1</td>\n",
       "      <td>0</td>\n",
       "    </tr>\n",
       "    <tr>\n",
       "      <th>1</th>\n",
       "      <td>5</td>\n",
       "      <td>262</td>\n",
       "      <td>6</td>\n",
       "      <td>0</td>\n",
       "      <td>1</td>\n",
       "      <td>0</td>\n",
       "      <td>0.80</td>\n",
       "      <td>0.86</td>\n",
       "      <td>0</td>\n",
       "      <td>0</td>\n",
       "      <td>0</td>\n",
       "      <td>0</td>\n",
       "      <td>0</td>\n",
       "      <td>0</td>\n",
       "      <td>1</td>\n",
       "      <td>0</td>\n",
       "      <td>0</td>\n",
       "      <td>0</td>\n",
       "      <td>1</td>\n",
       "    </tr>\n",
       "    <tr>\n",
       "      <th>2</th>\n",
       "      <td>7</td>\n",
       "      <td>272</td>\n",
       "      <td>4</td>\n",
       "      <td>0</td>\n",
       "      <td>1</td>\n",
       "      <td>0</td>\n",
       "      <td>0.11</td>\n",
       "      <td>0.88</td>\n",
       "      <td>0</td>\n",
       "      <td>0</td>\n",
       "      <td>0</td>\n",
       "      <td>0</td>\n",
       "      <td>0</td>\n",
       "      <td>0</td>\n",
       "      <td>1</td>\n",
       "      <td>0</td>\n",
       "      <td>0</td>\n",
       "      <td>0</td>\n",
       "      <td>1</td>\n",
       "    </tr>\n",
       "    <tr>\n",
       "      <th>3</th>\n",
       "      <td>5</td>\n",
       "      <td>223</td>\n",
       "      <td>5</td>\n",
       "      <td>0</td>\n",
       "      <td>1</td>\n",
       "      <td>0</td>\n",
       "      <td>0.72</td>\n",
       "      <td>0.87</td>\n",
       "      <td>0</td>\n",
       "      <td>0</td>\n",
       "      <td>0</td>\n",
       "      <td>0</td>\n",
       "      <td>0</td>\n",
       "      <td>0</td>\n",
       "      <td>1</td>\n",
       "      <td>0</td>\n",
       "      <td>0</td>\n",
       "      <td>1</td>\n",
       "      <td>0</td>\n",
       "    </tr>\n",
       "    <tr>\n",
       "      <th>4</th>\n",
       "      <td>2</td>\n",
       "      <td>159</td>\n",
       "      <td>3</td>\n",
       "      <td>0</td>\n",
       "      <td>1</td>\n",
       "      <td>0</td>\n",
       "      <td>0.37</td>\n",
       "      <td>0.52</td>\n",
       "      <td>0</td>\n",
       "      <td>0</td>\n",
       "      <td>0</td>\n",
       "      <td>0</td>\n",
       "      <td>0</td>\n",
       "      <td>0</td>\n",
       "      <td>1</td>\n",
       "      <td>0</td>\n",
       "      <td>0</td>\n",
       "      <td>1</td>\n",
       "      <td>0</td>\n",
       "    </tr>\n",
       "  </tbody>\n",
       "</table>\n",
       "</div>"
      ],
      "text/plain": [
       "   number_project  average_montly_hours  time_spend_company  Work_accident  \\\n",
       "0               2                   157                   3              0   \n",
       "1               5                   262                   6              0   \n",
       "2               7                   272                   4              0   \n",
       "3               5                   223                   5              0   \n",
       "4               2                   159                   3              0   \n",
       "\n",
       "   left  promotion_last_5years  satisfaction_level  last_evaluation  \\\n",
       "0     1                      0                0.38             0.53   \n",
       "1     1                      0                0.80             0.86   \n",
       "2     1                      0                0.11             0.88   \n",
       "3     1                      0                0.72             0.87   \n",
       "4     1                      0                0.37             0.52   \n",
       "\n",
       "   department_RandD  department_accounting  department_hr  \\\n",
       "0                 0                      0              0   \n",
       "1                 0                      0              0   \n",
       "2                 0                      0              0   \n",
       "3                 0                      0              0   \n",
       "4                 0                      0              0   \n",
       "\n",
       "   department_management  department_marketing  department_product_mng  \\\n",
       "0                      0                     0                       0   \n",
       "1                      0                     0                       0   \n",
       "2                      0                     0                       0   \n",
       "3                      0                     0                       0   \n",
       "4                      0                     0                       0   \n",
       "\n",
       "   department_sales  department_support  department_technical  salary_low  \\\n",
       "0                 1                   0                     0           1   \n",
       "1                 1                   0                     0           0   \n",
       "2                 1                   0                     0           0   \n",
       "3                 1                   0                     0           1   \n",
       "4                 1                   0                     0           1   \n",
       "\n",
       "   salary_medium  \n",
       "0              0  \n",
       "1              1  \n",
       "2              1  \n",
       "3              0  \n",
       "4              0  "
      ]
     },
     "execution_count": 17,
     "metadata": {},
     "output_type": "execute_result"
    }
   ],
   "source": [
    "#One Hot Encoding on Categorical Data\n",
    "\n",
    "categorial = ['department','salary']\n",
    "main_df_final = pd.get_dummies(main_df_final, columns=categorial, drop_first=True)\n",
    "main_df_final.head()"
   ]
  },
  {
   "cell_type": "code",
   "execution_count": 18,
   "metadata": {
    "colab": {
     "base_uri": "https://localhost:8080/",
     "height": 35
    },
    "colab_type": "code",
    "executionInfo": {
     "elapsed": 9090,
     "status": "ok",
     "timestamp": 1582032175250,
     "user": {
      "displayName": "Rajeev Ratan",
      "photoUrl": "https://lh3.googleusercontent.com/a-/AAuE7mCGo6aIm0tOcd5EhqWlYb0rime9sBvHS9YMpx0D2w=s64",
      "userId": "08597265227091462140"
     },
     "user_tz": 240
    },
    "id": "M47yoxS8VFZQ",
    "outputId": "e86d69f2-881c-44db-894c-8dd83a001e9b"
   },
   "outputs": [
    {
     "data": {
      "text/plain": [
       "(14999, 19)"
      ]
     },
     "execution_count": 18,
     "metadata": {},
     "output_type": "execute_result"
    }
   ],
   "source": [
    "#Shape of main_df_final df\n",
    "main_df_final.shape"
   ]
  },
  {
   "cell_type": "code",
   "execution_count": 19,
   "metadata": {
    "colab": {
     "base_uri": "https://localhost:8080/",
     "height": 35
    },
    "colab_type": "code",
    "executionInfo": {
     "elapsed": 9056,
     "status": "ok",
     "timestamp": 1582032175251,
     "user": {
      "displayName": "Rajeev Ratan",
      "photoUrl": "https://lh3.googleusercontent.com/a-/AAuE7mCGo6aIm0tOcd5EhqWlYb0rime9sBvHS9YMpx0D2w=s64",
      "userId": "08597265227091462140"
     },
     "user_tz": 240
    },
    "id": "QrYRtuFLVFZT",
    "outputId": "20376f90-9a35-467f-a3e4-4a7501146ec8"
   },
   "outputs": [
    {
     "data": {
      "text/plain": [
       "0    11428\n",
       "1     3571\n",
       "Name: left, dtype: int64"
      ]
     },
     "execution_count": 19,
     "metadata": {},
     "output_type": "execute_result"
    }
   ],
   "source": [
    "# count in class\n",
    "main_df_final.left.value_counts()"
   ]
  },
  {
   "cell_type": "code",
   "execution_count": 20,
   "metadata": {
    "colab": {
     "base_uri": "https://localhost:8080/",
     "height": 444
    },
    "colab_type": "code",
    "executionInfo": {
     "elapsed": 962,
     "status": "ok",
     "timestamp": 1582032200498,
     "user": {
      "displayName": "Rajeev Ratan",
      "photoUrl": "https://lh3.googleusercontent.com/a-/AAuE7mCGo6aIm0tOcd5EhqWlYb0rime9sBvHS9YMpx0D2w=s64",
      "userId": "08597265227091462140"
     },
     "user_tz": 240
    },
    "id": "FGZ_clH7ndHo",
    "outputId": "28d68298-5135-4062-be6f-59f5b1b47493"
   },
   "outputs": [
    {
     "name": "stdout",
     "output_type": "stream",
     "text": [
      "<class 'pandas.core.frame.DataFrame'>\n",
      "RangeIndex: 14999 entries, 0 to 14998\n",
      "Data columns (total 19 columns):\n",
      "number_project            14999 non-null int64\n",
      "average_montly_hours      14999 non-null int64\n",
      "time_spend_company        14999 non-null int64\n",
      "Work_accident             14999 non-null int64\n",
      "left                      14999 non-null int64\n",
      "promotion_last_5years     14999 non-null int64\n",
      "satisfaction_level        14999 non-null float64\n",
      "last_evaluation           14999 non-null float64\n",
      "department_RandD          14999 non-null uint8\n",
      "department_accounting     14999 non-null uint8\n",
      "department_hr             14999 non-null uint8\n",
      "department_management     14999 non-null uint8\n",
      "department_marketing      14999 non-null uint8\n",
      "department_product_mng    14999 non-null uint8\n",
      "department_sales          14999 non-null uint8\n",
      "department_support        14999 non-null uint8\n",
      "department_technical      14999 non-null uint8\n",
      "salary_low                14999 non-null uint8\n",
      "salary_medium             14999 non-null uint8\n",
      "dtypes: float64(2), int64(6), uint8(11)\n",
      "memory usage: 1.1 MB\n"
     ]
    }
   ],
   "source": [
    "main_df_final.info()"
   ]
  },
  {
   "cell_type": "markdown",
   "metadata": {
    "colab_type": "text",
    "id": "8xxy7KOUVFZc"
   },
   "source": [
    "## Preparing our Dataset for Machine Learning"
   ]
  },
  {
   "cell_type": "code",
   "execution_count": 21,
   "metadata": {
    "colab": {},
    "colab_type": "code",
    "collapsed": true,
    "id": "hVaL6a2vVFZd"
   },
   "outputs": [],
   "source": [
    "from sklearn.model_selection import train_test_split\n",
    "\n",
    "X = main_df_final.drop(['left'],axis=1).values\n",
    "y = main_df_final['left'].values\n"
   ]
  },
  {
   "cell_type": "code",
   "execution_count": 22,
   "metadata": {
    "colab": {},
    "colab_type": "code",
    "collapsed": true,
    "id": "OqXn7bgyVFZf"
   },
   "outputs": [],
   "source": [
    "# Split data into a 70:30 Ratio Train:Test\n",
    "\n",
    "X_train, X_test, y_train, y_test = train_test_split(X, y, test_size=0.3)"
   ]
  },
  {
   "cell_type": "code",
   "execution_count": 23,
   "metadata": {
    "colab": {},
    "colab_type": "code",
    "collapsed": true,
    "id": "sqvo7UBuVFZk"
   },
   "outputs": [],
   "source": [
    "# Normalize the data\n",
    "from sklearn.preprocessing import StandardScaler\n",
    "\n",
    "sc = StandardScaler()\n",
    "X_train = sc.fit_transform(X_train)\n",
    "X_test = sc.transform(X_test)"
   ]
  },
  {
   "cell_type": "code",
   "execution_count": 24,
   "metadata": {
    "colab": {
     "base_uri": "https://localhost:8080/",
     "height": 200
    },
    "colab_type": "code",
    "executionInfo": {
     "elapsed": 715,
     "status": "ok",
     "timestamp": 1582032206119,
     "user": {
      "displayName": "Rajeev Ratan",
      "photoUrl": "https://lh3.googleusercontent.com/a-/AAuE7mCGo6aIm0tOcd5EhqWlYb0rime9sBvHS9YMpx0D2w=s64",
      "userId": "08597265227091462140"
     },
     "user_tz": 240
    },
    "id": "PDNSSMTmVFZn",
    "outputId": "7ecb54d5-064e-4f62-9b85-caa1587b07d9"
   },
   "outputs": [
    {
     "data": {
      "text/html": [
       "<div>\n",
       "<style>\n",
       "    .dataframe thead tr:only-child th {\n",
       "        text-align: right;\n",
       "    }\n",
       "\n",
       "    .dataframe thead th {\n",
       "        text-align: left;\n",
       "    }\n",
       "\n",
       "    .dataframe tbody tr th {\n",
       "        vertical-align: top;\n",
       "    }\n",
       "</style>\n",
       "<table border=\"1\" class=\"dataframe\">\n",
       "  <thead>\n",
       "    <tr style=\"text-align: right;\">\n",
       "      <th></th>\n",
       "      <th>0</th>\n",
       "      <th>1</th>\n",
       "      <th>2</th>\n",
       "      <th>3</th>\n",
       "      <th>4</th>\n",
       "      <th>5</th>\n",
       "      <th>6</th>\n",
       "      <th>7</th>\n",
       "      <th>8</th>\n",
       "      <th>9</th>\n",
       "      <th>10</th>\n",
       "      <th>11</th>\n",
       "      <th>12</th>\n",
       "      <th>13</th>\n",
       "      <th>14</th>\n",
       "      <th>15</th>\n",
       "      <th>16</th>\n",
       "      <th>17</th>\n",
       "    </tr>\n",
       "  </thead>\n",
       "  <tbody>\n",
       "    <tr>\n",
       "      <th>0</th>\n",
       "      <td>-1.465614</td>\n",
       "      <td>-0.727582</td>\n",
       "      <td>0.347339</td>\n",
       "      <td>-0.415862</td>\n",
       "      <td>-0.14999</td>\n",
       "      <td>-1.098616</td>\n",
       "      <td>-0.387259</td>\n",
       "      <td>-0.237368</td>\n",
       "      <td>-0.232629</td>\n",
       "      <td>-0.229657</td>\n",
       "      <td>-0.209146</td>\n",
       "      <td>-0.245106</td>\n",
       "      <td>3.870428</td>\n",
       "      <td>-0.617614</td>\n",
       "      <td>-0.413812</td>\n",
       "      <td>-0.471116</td>\n",
       "      <td>1.032827</td>\n",
       "      <td>-0.875906</td>\n",
       "    </tr>\n",
       "    <tr>\n",
       "      <th>1</th>\n",
       "      <td>-1.465614</td>\n",
       "      <td>-1.267985</td>\n",
       "      <td>-0.336335</td>\n",
       "      <td>-0.415862</td>\n",
       "      <td>-0.14999</td>\n",
       "      <td>-0.614069</td>\n",
       "      <td>-1.321789</td>\n",
       "      <td>-0.237368</td>\n",
       "      <td>-0.232629</td>\n",
       "      <td>-0.229657</td>\n",
       "      <td>-0.209146</td>\n",
       "      <td>-0.245106</td>\n",
       "      <td>-0.258369</td>\n",
       "      <td>-0.617614</td>\n",
       "      <td>2.416555</td>\n",
       "      <td>-0.471116</td>\n",
       "      <td>1.032827</td>\n",
       "      <td>-0.875906</td>\n",
       "    </tr>\n",
       "    <tr>\n",
       "      <th>2</th>\n",
       "      <td>0.977102</td>\n",
       "      <td>1.093777</td>\n",
       "      <td>-0.336335</td>\n",
       "      <td>-0.415862</td>\n",
       "      <td>-0.14999</td>\n",
       "      <td>-0.250659</td>\n",
       "      <td>-0.971340</td>\n",
       "      <td>4.212863</td>\n",
       "      <td>-0.232629</td>\n",
       "      <td>-0.229657</td>\n",
       "      <td>-0.209146</td>\n",
       "      <td>-0.245106</td>\n",
       "      <td>-0.258369</td>\n",
       "      <td>-0.617614</td>\n",
       "      <td>-0.413812</td>\n",
       "      <td>-0.471116</td>\n",
       "      <td>-0.968216</td>\n",
       "      <td>1.141675</td>\n",
       "    </tr>\n",
       "  </tbody>\n",
       "</table>\n",
       "</div>"
      ],
      "text/plain": [
       "         0         1         2         3        4         5         6   \\\n",
       "0 -1.465614 -0.727582  0.347339 -0.415862 -0.14999 -1.098616 -0.387259   \n",
       "1 -1.465614 -1.267985 -0.336335 -0.415862 -0.14999 -0.614069 -1.321789   \n",
       "2  0.977102  1.093777 -0.336335 -0.415862 -0.14999 -0.250659 -0.971340   \n",
       "\n",
       "         7         8         9         10        11        12        13  \\\n",
       "0 -0.237368 -0.232629 -0.229657 -0.209146 -0.245106  3.870428 -0.617614   \n",
       "1 -0.237368 -0.232629 -0.229657 -0.209146 -0.245106 -0.258369 -0.617614   \n",
       "2  4.212863 -0.232629 -0.229657 -0.209146 -0.245106 -0.258369 -0.617614   \n",
       "\n",
       "         14        15        16        17  \n",
       "0 -0.413812 -0.471116  1.032827 -0.875906  \n",
       "1  2.416555 -0.471116  1.032827 -0.875906  \n",
       "2 -0.413812 -0.471116 -0.968216  1.141675  "
      ]
     },
     "execution_count": 24,
     "metadata": {},
     "output_type": "execute_result"
    }
   ],
   "source": [
    "df_train = pd.DataFrame(X_train)\n",
    "df_train.head(3)"
   ]
  },
  {
   "cell_type": "code",
   "execution_count": 25,
   "metadata": {
    "colab": {
     "base_uri": "https://localhost:8080/",
     "height": 291
    },
    "colab_type": "code",
    "executionInfo": {
     "elapsed": 954,
     "status": "ok",
     "timestamp": 1582032206880,
     "user": {
      "displayName": "Rajeev Ratan",
      "photoUrl": "https://lh3.googleusercontent.com/a-/AAuE7mCGo6aIm0tOcd5EhqWlYb0rime9sBvHS9YMpx0D2w=s64",
      "userId": "08597265227091462140"
     },
     "user_tz": 240
    },
    "id": "I5bPtaGlgQfk",
    "outputId": "eed15108-f555-4227-8baf-4e0a21cd51fb"
   },
   "outputs": [
    {
     "data": {
      "text/html": [
       "<div>\n",
       "<style>\n",
       "    .dataframe thead tr:only-child th {\n",
       "        text-align: right;\n",
       "    }\n",
       "\n",
       "    .dataframe thead th {\n",
       "        text-align: left;\n",
       "    }\n",
       "\n",
       "    .dataframe tbody tr th {\n",
       "        vertical-align: top;\n",
       "    }\n",
       "</style>\n",
       "<table border=\"1\" class=\"dataframe\">\n",
       "  <thead>\n",
       "    <tr style=\"text-align: right;\">\n",
       "      <th></th>\n",
       "      <th>0</th>\n",
       "      <th>1</th>\n",
       "      <th>2</th>\n",
       "      <th>3</th>\n",
       "      <th>4</th>\n",
       "      <th>5</th>\n",
       "      <th>6</th>\n",
       "      <th>7</th>\n",
       "      <th>8</th>\n",
       "      <th>9</th>\n",
       "      <th>10</th>\n",
       "      <th>11</th>\n",
       "      <th>12</th>\n",
       "      <th>13</th>\n",
       "      <th>14</th>\n",
       "      <th>15</th>\n",
       "      <th>16</th>\n",
       "      <th>17</th>\n",
       "    </tr>\n",
       "  </thead>\n",
       "  <tbody>\n",
       "    <tr>\n",
       "      <th>count</th>\n",
       "      <td>1.049900e+04</td>\n",
       "      <td>1.049900e+04</td>\n",
       "      <td>1.049900e+04</td>\n",
       "      <td>1.049900e+04</td>\n",
       "      <td>1.049900e+04</td>\n",
       "      <td>1.049900e+04</td>\n",
       "      <td>1.049900e+04</td>\n",
       "      <td>1.049900e+04</td>\n",
       "      <td>1.049900e+04</td>\n",
       "      <td>1.049900e+04</td>\n",
       "      <td>1.049900e+04</td>\n",
       "      <td>1.049900e+04</td>\n",
       "      <td>1.049900e+04</td>\n",
       "      <td>1.049900e+04</td>\n",
       "      <td>1.049900e+04</td>\n",
       "      <td>1.049900e+04</td>\n",
       "      <td>1.049900e+04</td>\n",
       "      <td>1.049900e+04</td>\n",
       "    </tr>\n",
       "    <tr>\n",
       "      <th>mean</th>\n",
       "      <td>8.038780e-17</td>\n",
       "      <td>2.111317e-16</td>\n",
       "      <td>3.904445e-16</td>\n",
       "      <td>-1.027435e-15</td>\n",
       "      <td>1.490801e-16</td>\n",
       "      <td>3.017112e-14</td>\n",
       "      <td>9.217928e-15</td>\n",
       "      <td>2.370288e-17</td>\n",
       "      <td>-4.730476e-16</td>\n",
       "      <td>-6.929086e-16</td>\n",
       "      <td>1.120742e-15</td>\n",
       "      <td>-1.179999e-15</td>\n",
       "      <td>-2.040890e-18</td>\n",
       "      <td>-1.506875e-16</td>\n",
       "      <td>4.482344e-16</td>\n",
       "      <td>8.058978e-16</td>\n",
       "      <td>-1.122384e-16</td>\n",
       "      <td>1.698486e-16</td>\n",
       "    </tr>\n",
       "    <tr>\n",
       "      <th>std</th>\n",
       "      <td>1.000048e+00</td>\n",
       "      <td>1.000048e+00</td>\n",
       "      <td>1.000048e+00</td>\n",
       "      <td>1.000048e+00</td>\n",
       "      <td>1.000048e+00</td>\n",
       "      <td>1.000048e+00</td>\n",
       "      <td>1.000048e+00</td>\n",
       "      <td>1.000048e+00</td>\n",
       "      <td>1.000048e+00</td>\n",
       "      <td>1.000048e+00</td>\n",
       "      <td>1.000048e+00</td>\n",
       "      <td>1.000048e+00</td>\n",
       "      <td>1.000048e+00</td>\n",
       "      <td>1.000048e+00</td>\n",
       "      <td>1.000048e+00</td>\n",
       "      <td>1.000048e+00</td>\n",
       "      <td>1.000048e+00</td>\n",
       "      <td>1.000048e+00</td>\n",
       "    </tr>\n",
       "    <tr>\n",
       "      <th>min</th>\n",
       "      <td>-1.465614e+00</td>\n",
       "      <td>-2.108612e+00</td>\n",
       "      <td>-1.020009e+00</td>\n",
       "      <td>-4.158624e-01</td>\n",
       "      <td>-1.499903e-01</td>\n",
       "      <td>-2.108090e+00</td>\n",
       "      <td>-2.081094e+00</td>\n",
       "      <td>-2.373683e-01</td>\n",
       "      <td>-2.326295e-01</td>\n",
       "      <td>-2.296571e-01</td>\n",
       "      <td>-2.091457e-01</td>\n",
       "      <td>-2.451056e-01</td>\n",
       "      <td>-2.583694e-01</td>\n",
       "      <td>-6.176143e-01</td>\n",
       "      <td>-4.138122e-01</td>\n",
       "      <td>-4.711164e-01</td>\n",
       "      <td>-9.682161e-01</td>\n",
       "      <td>-8.759058e-01</td>\n",
       "    </tr>\n",
       "    <tr>\n",
       "      <th>25%</th>\n",
       "      <td>-6.513755e-01</td>\n",
       "      <td>-9.077161e-01</td>\n",
       "      <td>-3.363345e-01</td>\n",
       "      <td>-4.158624e-01</td>\n",
       "      <td>-1.499903e-01</td>\n",
       "      <td>-6.948270e-01</td>\n",
       "      <td>-9.129320e-01</td>\n",
       "      <td>-2.373683e-01</td>\n",
       "      <td>-2.326295e-01</td>\n",
       "      <td>-2.296571e-01</td>\n",
       "      <td>-2.091457e-01</td>\n",
       "      <td>-2.451056e-01</td>\n",
       "      <td>-2.583694e-01</td>\n",
       "      <td>-6.176143e-01</td>\n",
       "      <td>-4.138122e-01</td>\n",
       "      <td>-4.711164e-01</td>\n",
       "      <td>-9.682161e-01</td>\n",
       "      <td>-8.759058e-01</td>\n",
       "    </tr>\n",
       "    <tr>\n",
       "      <th>50%</th>\n",
       "      <td>1.628633e-01</td>\n",
       "      <td>-7.044022e-03</td>\n",
       "      <td>-3.363345e-01</td>\n",
       "      <td>-4.158624e-01</td>\n",
       "      <td>-1.499903e-01</td>\n",
       "      <td>1.127516e-01</td>\n",
       "      <td>2.159748e-02</td>\n",
       "      <td>-2.373683e-01</td>\n",
       "      <td>-2.326295e-01</td>\n",
       "      <td>-2.296571e-01</td>\n",
       "      <td>-2.091457e-01</td>\n",
       "      <td>-2.451056e-01</td>\n",
       "      <td>-2.583694e-01</td>\n",
       "      <td>-6.176143e-01</td>\n",
       "      <td>-4.138122e-01</td>\n",
       "      <td>-4.711164e-01</td>\n",
       "      <td>-9.682161e-01</td>\n",
       "      <td>-8.759058e-01</td>\n",
       "    </tr>\n",
       "    <tr>\n",
       "      <th>75%</th>\n",
       "      <td>9.771020e-01</td>\n",
       "      <td>8.736132e-01</td>\n",
       "      <td>3.473395e-01</td>\n",
       "      <td>-4.158624e-01</td>\n",
       "      <td>-1.499903e-01</td>\n",
       "      <td>7.991935e-01</td>\n",
       "      <td>8.977189e-01</td>\n",
       "      <td>-2.373683e-01</td>\n",
       "      <td>-2.326295e-01</td>\n",
       "      <td>-2.296571e-01</td>\n",
       "      <td>-2.091457e-01</td>\n",
       "      <td>-2.451056e-01</td>\n",
       "      <td>-2.583694e-01</td>\n",
       "      <td>1.619134e+00</td>\n",
       "      <td>-4.138122e-01</td>\n",
       "      <td>-4.711164e-01</td>\n",
       "      <td>1.032827e+00</td>\n",
       "      <td>1.141675e+00</td>\n",
       "    </tr>\n",
       "    <tr>\n",
       "      <th>max</th>\n",
       "      <td>2.605580e+00</td>\n",
       "      <td>2.174584e+00</td>\n",
       "      <td>4.449384e+00</td>\n",
       "      <td>2.404641e+00</td>\n",
       "      <td>6.667100e+00</td>\n",
       "      <td>1.566393e+00</td>\n",
       "      <td>1.657024e+00</td>\n",
       "      <td>4.212863e+00</td>\n",
       "      <td>4.298682e+00</td>\n",
       "      <td>4.354317e+00</td>\n",
       "      <td>4.781356e+00</td>\n",
       "      <td>4.079875e+00</td>\n",
       "      <td>3.870428e+00</td>\n",
       "      <td>1.619134e+00</td>\n",
       "      <td>2.416555e+00</td>\n",
       "      <td>2.122618e+00</td>\n",
       "      <td>1.032827e+00</td>\n",
       "      <td>1.141675e+00</td>\n",
       "    </tr>\n",
       "  </tbody>\n",
       "</table>\n",
       "</div>"
      ],
      "text/plain": [
       "                 0             1             2             3             4   \\\n",
       "count  1.049900e+04  1.049900e+04  1.049900e+04  1.049900e+04  1.049900e+04   \n",
       "mean   8.038780e-17  2.111317e-16  3.904445e-16 -1.027435e-15  1.490801e-16   \n",
       "std    1.000048e+00  1.000048e+00  1.000048e+00  1.000048e+00  1.000048e+00   \n",
       "min   -1.465614e+00 -2.108612e+00 -1.020009e+00 -4.158624e-01 -1.499903e-01   \n",
       "25%   -6.513755e-01 -9.077161e-01 -3.363345e-01 -4.158624e-01 -1.499903e-01   \n",
       "50%    1.628633e-01 -7.044022e-03 -3.363345e-01 -4.158624e-01 -1.499903e-01   \n",
       "75%    9.771020e-01  8.736132e-01  3.473395e-01 -4.158624e-01 -1.499903e-01   \n",
       "max    2.605580e+00  2.174584e+00  4.449384e+00  2.404641e+00  6.667100e+00   \n",
       "\n",
       "                 5             6             7             8             9   \\\n",
       "count  1.049900e+04  1.049900e+04  1.049900e+04  1.049900e+04  1.049900e+04   \n",
       "mean   3.017112e-14  9.217928e-15  2.370288e-17 -4.730476e-16 -6.929086e-16   \n",
       "std    1.000048e+00  1.000048e+00  1.000048e+00  1.000048e+00  1.000048e+00   \n",
       "min   -2.108090e+00 -2.081094e+00 -2.373683e-01 -2.326295e-01 -2.296571e-01   \n",
       "25%   -6.948270e-01 -9.129320e-01 -2.373683e-01 -2.326295e-01 -2.296571e-01   \n",
       "50%    1.127516e-01  2.159748e-02 -2.373683e-01 -2.326295e-01 -2.296571e-01   \n",
       "75%    7.991935e-01  8.977189e-01 -2.373683e-01 -2.326295e-01 -2.296571e-01   \n",
       "max    1.566393e+00  1.657024e+00  4.212863e+00  4.298682e+00  4.354317e+00   \n",
       "\n",
       "                 10            11            12            13            14  \\\n",
       "count  1.049900e+04  1.049900e+04  1.049900e+04  1.049900e+04  1.049900e+04   \n",
       "mean   1.120742e-15 -1.179999e-15 -2.040890e-18 -1.506875e-16  4.482344e-16   \n",
       "std    1.000048e+00  1.000048e+00  1.000048e+00  1.000048e+00  1.000048e+00   \n",
       "min   -2.091457e-01 -2.451056e-01 -2.583694e-01 -6.176143e-01 -4.138122e-01   \n",
       "25%   -2.091457e-01 -2.451056e-01 -2.583694e-01 -6.176143e-01 -4.138122e-01   \n",
       "50%   -2.091457e-01 -2.451056e-01 -2.583694e-01 -6.176143e-01 -4.138122e-01   \n",
       "75%   -2.091457e-01 -2.451056e-01 -2.583694e-01  1.619134e+00 -4.138122e-01   \n",
       "max    4.781356e+00  4.079875e+00  3.870428e+00  1.619134e+00  2.416555e+00   \n",
       "\n",
       "                 15            16            17  \n",
       "count  1.049900e+04  1.049900e+04  1.049900e+04  \n",
       "mean   8.058978e-16 -1.122384e-16  1.698486e-16  \n",
       "std    1.000048e+00  1.000048e+00  1.000048e+00  \n",
       "min   -4.711164e-01 -9.682161e-01 -8.759058e-01  \n",
       "25%   -4.711164e-01 -9.682161e-01 -8.759058e-01  \n",
       "50%   -4.711164e-01 -9.682161e-01 -8.759058e-01  \n",
       "75%   -4.711164e-01  1.032827e+00  1.141675e+00  \n",
       "max    2.122618e+00  1.032827e+00  1.141675e+00  "
      ]
     },
     "execution_count": 25,
     "metadata": {},
     "output_type": "execute_result"
    }
   ],
   "source": [
    "df_train.describe()"
   ]
  },
  {
   "cell_type": "markdown",
   "metadata": {},
   "source": [
    "## MAchine Learning"
   ]
  },
  {
   "cell_type": "markdown",
   "metadata": {
    "colab_type": "text",
    "id": "wVdxf3nWVFZu"
   },
   "source": [
    "### Logistic Regression Model"
   ]
  },
  {
   "cell_type": "code",
   "execution_count": 26,
   "metadata": {
    "colab": {
     "base_uri": "https://localhost:8080/",
     "height": 230
    },
    "colab_type": "code",
    "executionInfo": {
     "elapsed": 1197,
     "status": "ok",
     "timestamp": 1582032208339,
     "user": {
      "displayName": "Rajeev Ratan",
      "photoUrl": "https://lh3.googleusercontent.com/a-/AAuE7mCGo6aIm0tOcd5EhqWlYb0rime9sBvHS9YMpx0D2w=s64",
      "userId": "08597265227091462140"
     },
     "user_tz": 240
    },
    "id": "qo11EANxVFZu",
    "outputId": "6232df41-0ff5-42f2-a73d-f6f9d566835d"
   },
   "outputs": [
    {
     "name": "stdout",
     "output_type": "stream",
     "text": [
      "Accuracy 79.16%\n",
      "[[3177  230]\n",
      " [ 708  385]]\n",
      "              precision    recall  f1-score   support\n",
      "\n",
      "           0       0.82      0.93      0.87      3407\n",
      "           1       0.63      0.35      0.45      1093\n",
      "\n",
      "   micro avg       0.79      0.79      0.79      4500\n",
      "   macro avg       0.72      0.64      0.66      4500\n",
      "weighted avg       0.77      0.79      0.77      4500\n",
      "\n"
     ]
    }
   ],
   "source": [
    "from sklearn.linear_model import LogisticRegression\n",
    "from sklearn.metrics import confusion_matrix\n",
    "from sklearn.metrics import classification_report\n",
    "from sklearn.metrics import accuracy_score\n",
    "\n",
    "model = LogisticRegression(solver='lbfgs')\n",
    "model.fit(X_train, y_train)\n",
    "\n",
    "predictions = model.predict(X_test)\n",
    "\n",
    "print(\"Accuracy {0:.2f}%\".format(100*accuracy_score(predictions, y_test)))\n",
    "print(confusion_matrix(y_test, predictions))\n",
    "print(classification_report(y_test, predictions))"
   ]
  },
  {
   "cell_type": "markdown",
   "metadata": {
    "colab_type": "text",
    "id": "goAgNQp2yDqr"
   },
   "source": [
    "# Test your model on a single new row of data"
   ]
  },
  {
   "cell_type": "code",
   "execution_count": 28,
   "metadata": {
    "colab": {
     "base_uri": "https://localhost:8080/",
     "height": 35
    },
    "colab_type": "code",
    "executionInfo": {
     "elapsed": 763,
     "status": "ok",
     "timestamp": 1582032209000,
     "user": {
      "displayName": "Rajeev Ratan",
      "photoUrl": "https://lh3.googleusercontent.com/a-/AAuE7mCGo6aIm0tOcd5EhqWlYb0rime9sBvHS9YMpx0D2w=s64",
      "userId": "08597265227091462140"
     },
     "user_tz": 240
    },
    "id": "eEC8DDOdleP1",
    "outputId": "6cab8883-574d-4d52-d71a-fb224b3fa5c9"
   },
   "outputs": [
    {
     "name": "stderr",
     "output_type": "stream",
     "text": [
      "C:\\Users\\Triloki-Gupta\\Anaconda3\\lib\\site-packages\\ipykernel_launcher.py:27: DataConversionWarning: Data with input dtype int64, float64 were all converted to float64 by StandardScaler.\n"
     ]
    },
    {
     "data": {
      "text/plain": [
       "array([[2.67798672e-04, 9.99732201e-01]])"
      ]
     },
     "execution_count": 28,
     "metadata": {},
     "output_type": "execute_result"
    }
   ],
   "source": [
    "# Create Test Input \n",
    "# Enter your values here\n",
    "\n",
    "input_data = {'number_project': [3],\n",
    "              'average_montly_hours': [160],\n",
    "              'time_spend_company': [5],\n",
    "              'Work_accident': [0],\n",
    "              'promotion_last_5years': [1],\n",
    "              'last_evaluation': [0.5],\n",
    "              'satisfaction_level': [0.5],\n",
    "              'department_RandD': [0],\n",
    "              'department_accounting': [0],\n",
    "              'department_hr': [0],\n",
    "              'department_management': [0],\n",
    "              'department_marketing': [1],\n",
    "              'department_product_mng': [0],\n",
    "              'department_sales': [0],\n",
    "              'department_support': [0],\n",
    "              'department_technical': [0],\n",
    "              'salary_low': [0],\n",
    "              'salary_medium': [1]}\n",
    "\n",
    "# Convert to pandas dataframe\n",
    "input_data = pd.DataFrame(input_data)\n",
    "\n",
    "# Transform data using sc.transform\n",
    "input_data = sc.transform(input_data)\n",
    "\n",
    "# Reshape data for input into our model predict function\n",
    "input_data = input_data.reshape(1, -1)\n",
    "\n",
    "# Run prediction for our test sameple, 0 means employee will not leave, 1 means they are likely to leave/resign\n",
    "model.predict(input_data)\n",
    "\n",
    "# print probabilities of belonging to either class\n",
    "model.predict_proba(input_data)"
   ]
  },
  {
   "cell_type": "code",
   "execution_count": 0,
   "metadata": {
    "colab": {},
    "colab_type": "code",
    "collapsed": true,
    "id": "arszhMA8tIUF"
   },
   "outputs": [],
   "source": []
  },
  {
   "cell_type": "markdown",
   "metadata": {
    "colab_type": "text",
    "id": "6DOCXvrMVFZw"
   },
   "source": [
    "### Random Forest Classifer"
   ]
  },
  {
   "cell_type": "code",
   "execution_count": 29,
   "metadata": {
    "colab": {
     "base_uri": "https://localhost:8080/",
     "height": 230
    },
    "colab_type": "code",
    "executionInfo": {
     "elapsed": 1915,
     "status": "ok",
     "timestamp": 1582032214459,
     "user": {
      "displayName": "Rajeev Ratan",
      "photoUrl": "https://lh3.googleusercontent.com/a-/AAuE7mCGo6aIm0tOcd5EhqWlYb0rime9sBvHS9YMpx0D2w=s64",
      "userId": "08597265227091462140"
     },
     "user_tz": 240
    },
    "id": "-c9I7I1NVFZx",
    "outputId": "35eaaf97-61b9-4663-f06c-efef1b1696bb"
   },
   "outputs": [
    {
     "name": "stderr",
     "output_type": "stream",
     "text": [
      "C:\\Users\\Triloki-Gupta\\Anaconda3\\lib\\site-packages\\sklearn\\ensemble\\forest.py:248: FutureWarning: The default value of n_estimators will change from 10 in version 0.20 to 100 in 0.22.\n",
      "  \"10 in version 0.20 to 100 in 0.22.\", FutureWarning)\n"
     ]
    },
    {
     "name": "stdout",
     "output_type": "stream",
     "text": [
      "Accuracy 98.51%\n",
      "[[3396   11]\n",
      " [  56 1037]]\n",
      "              precision    recall  f1-score   support\n",
      "\n",
      "           0       0.98      1.00      0.99      3407\n",
      "           1       0.99      0.95      0.97      1093\n",
      "\n",
      "   micro avg       0.99      0.99      0.99      4500\n",
      "   macro avg       0.99      0.97      0.98      4500\n",
      "weighted avg       0.99      0.99      0.99      4500\n",
      "\n"
     ]
    }
   ],
   "source": [
    "from sklearn.ensemble import RandomForestClassifier\n",
    "from sklearn.metrics import confusion_matrix\n",
    "from sklearn.metrics import classification_report\n",
    "from sklearn.metrics import accuracy_score\n",
    "\n",
    "model = RandomForestClassifier()\n",
    "model.fit(X_train, y_train)\n",
    "\n",
    "predictions = model.predict(X_test)\n",
    "score = model.score(X_test, y_test)\n",
    "\n",
    "print(\"Accuracy {0:.2f}%\".format(100*accuracy_score(predictions, y_test)))\n",
    "print(confusion_matrix(y_test, predictions))\n",
    "print(classification_report(y_test, predictions))"
   ]
  },
  {
   "cell_type": "markdown",
   "metadata": {},
   "source": [
    "#### Features important with RF"
   ]
  },
  {
   "cell_type": "code",
   "execution_count": 34,
   "metadata": {
    "colab": {
     "base_uri": "https://localhost:8080/",
     "height": 141
    },
    "colab_type": "code",
    "executionInfo": {
     "elapsed": 525,
     "status": "ok",
     "timestamp": 1582032215249,
     "user": {
      "displayName": "Rajeev Ratan",
      "photoUrl": "https://lh3.googleusercontent.com/a-/AAuE7mCGo6aIm0tOcd5EhqWlYb0rime9sBvHS9YMpx0D2w=s64",
      "userId": "08597265227091462140"
     },
     "user_tz": 240
    },
    "id": "5pQmueZLoIdq",
    "outputId": "232bdb54-a8b0-40d3-e28d-2f434dbc6653"
   },
   "outputs": [
    {
     "data": {
      "text/plain": [
       "Index(['number_project', 'average_montly_hours', 'time_spend_company',\n",
       "       'Work_accident', 'promotion_last_5years', 'satisfaction_level',\n",
       "       'last_evaluation', 'department_RandD', 'department_accounting',\n",
       "       'department_hr', 'department_management', 'department_marketing',\n",
       "       'department_product_mng', 'department_sales', 'department_support',\n",
       "       'department_technical', 'salary_low', 'salary_medium'],\n",
       "      dtype='object')"
      ]
     },
     "execution_count": 34,
     "metadata": {},
     "output_type": "execute_result"
    }
   ],
   "source": [
    "main_df_final.drop(['left'],axis=1).columns"
   ]
  },
  {
   "cell_type": "code",
   "execution_count": 35,
   "metadata": {
    "colab": {
     "base_uri": "https://localhost:8080/",
     "height": 595
    },
    "colab_type": "code",
    "executionInfo": {
     "elapsed": 403,
     "status": "ok",
     "timestamp": 1582032215558,
     "user": {
      "displayName": "Rajeev Ratan",
      "photoUrl": "https://lh3.googleusercontent.com/a-/AAuE7mCGo6aIm0tOcd5EhqWlYb0rime9sBvHS9YMpx0D2w=s64",
      "userId": "08597265227091462140"
     },
     "user_tz": 240
    },
    "id": "ijboE4YJnhiy",
    "outputId": "460bce37-dfb7-447f-e37f-d58b39ff1535"
   },
   "outputs": [
    {
     "data": {
      "text/html": [
       "<div>\n",
       "<style>\n",
       "    .dataframe thead tr:only-child th {\n",
       "        text-align: right;\n",
       "    }\n",
       "\n",
       "    .dataframe thead th {\n",
       "        text-align: left;\n",
       "    }\n",
       "\n",
       "    .dataframe tbody tr th {\n",
       "        vertical-align: top;\n",
       "    }\n",
       "</style>\n",
       "<table border=\"1\" class=\"dataframe\">\n",
       "  <thead>\n",
       "    <tr style=\"text-align: right;\">\n",
       "      <th></th>\n",
       "      <th>importance</th>\n",
       "    </tr>\n",
       "  </thead>\n",
       "  <tbody>\n",
       "    <tr>\n",
       "      <th>5</th>\n",
       "      <td>0.299157</td>\n",
       "    </tr>\n",
       "    <tr>\n",
       "      <th>0</th>\n",
       "      <td>0.216515</td>\n",
       "    </tr>\n",
       "    <tr>\n",
       "      <th>2</th>\n",
       "      <td>0.190278</td>\n",
       "    </tr>\n",
       "    <tr>\n",
       "      <th>1</th>\n",
       "      <td>0.123977</td>\n",
       "    </tr>\n",
       "    <tr>\n",
       "      <th>6</th>\n",
       "      <td>0.118937</td>\n",
       "    </tr>\n",
       "  </tbody>\n",
       "</table>\n",
       "</div>"
      ],
      "text/plain": [
       "   importance\n",
       "5    0.299157\n",
       "0    0.216515\n",
       "2    0.190278\n",
       "1    0.123977\n",
       "6    0.118937"
      ]
     },
     "execution_count": 35,
     "metadata": {},
     "output_type": "execute_result"
    }
   ],
   "source": [
    "import pandas as pd\n",
    "feature_importances = pd.DataFrame(model.feature_importances_,\n",
    "                                   index = pd.DataFrame(X_train).columns,\n",
    "                                    columns=['importance']).sort_values('importance',ascending=False)\n",
    "\n",
    "feature_importances.head()"
   ]
  },
  {
   "cell_type": "markdown",
   "metadata": {
    "colab_type": "text",
    "id": "mGQWcMLIVFZz"
   },
   "source": [
    "## Deep Learning"
   ]
  },
  {
   "cell_type": "code",
   "execution_count": 36,
   "metadata": {
    "colab": {
     "base_uri": "https://localhost:8080/",
     "height": 35
    },
    "colab_type": "code",
    "executionInfo": {
     "elapsed": 799,
     "status": "ok",
     "timestamp": 1582032217003,
     "user": {
      "displayName": "Rajeev Ratan",
      "photoUrl": "https://lh3.googleusercontent.com/a-/AAuE7mCGo6aIm0tOcd5EhqWlYb0rime9sBvHS9YMpx0D2w=s64",
      "userId": "08597265227091462140"
     },
     "user_tz": 240
    },
    "id": "9fIRqswd3ONA",
    "outputId": "13c93fc2-ac11-4186-cdc3-32d5b1de0d31"
   },
   "outputs": [
    {
     "name": "stderr",
     "output_type": "stream",
     "text": [
      "ERROR:root:Line magic function `%tensorflow_version` not found.\n"
     ]
    }
   ],
   "source": [
    "# Use the newest version of TensorFlow 2.0\n",
    "%tensorflow_version 2.x "
   ]
  },
  {
   "cell_type": "code",
   "execution_count": 0,
   "metadata": {
    "colab": {},
    "colab_type": "code",
    "collapsed": true,
    "id": "giLklT6FVFZz"
   },
   "outputs": [],
   "source": [
    "import tensorflow.keras\n",
    "from tensorflow.keras.models import Sequential\n",
    "from tensorflow.keras.layers import Dense\n",
    "\n",
    "model = Sequential()\n",
    "\n",
    "model.add(Dense(9, kernel_initializer = \"uniform\", activation = \"relu\", input_dim=18))\n",
    "model.add(Dense(1, kernel_initializer = \"uniform\", activation = \"sigmoid\"))\n",
    "\n",
    "model.compile(optimizer= \"adam\",loss = \"binary_crossentropy\",metrics = [\"accuracy\"])"
   ]
  },
  {
   "cell_type": "code",
   "execution_count": 42,
   "metadata": {
    "colab": {
     "base_uri": "https://localhost:8080/",
     "height": 230
    },
    "colab_type": "code",
    "executionInfo": {
     "elapsed": 7442,
     "status": "ok",
     "timestamp": 1582032224849,
     "user": {
      "displayName": "Rajeev Ratan",
      "photoUrl": "https://lh3.googleusercontent.com/a-/AAuE7mCGo6aIm0tOcd5EhqWlYb0rime9sBvHS9YMpx0D2w=s64",
      "userId": "08597265227091462140"
     },
     "user_tz": 240
    },
    "id": "y6LBNIODVFZ2",
    "outputId": "1a22ec83-250b-47e0-e45b-319dc7710b75"
   },
   "outputs": [
    {
     "name": "stdout",
     "output_type": "stream",
     "text": [
      "Model: \"sequential\"\n",
      "_________________________________________________________________\n",
      "Layer (type)                 Output Shape              Param #   \n",
      "=================================================================\n",
      "dense (Dense)                (None, 9)                 171       \n",
      "_________________________________________________________________\n",
      "dense_1 (Dense)              (None, 1)                 10        \n",
      "=================================================================\n",
      "Total params: 181\n",
      "Trainable params: 181\n",
      "Non-trainable params: 0\n",
      "_________________________________________________________________\n"
     ]
    }
   ],
   "source": [
    "# Display Model Summary and Show Parameters\n",
    "model.summary()"
   ]
  },
  {
   "cell_type": "code",
   "execution_count": 43,
   "metadata": {
    "colab": {
     "base_uri": "https://localhost:8080/",
     "height": 959
    },
    "colab_type": "code",
    "executionInfo": {
     "elapsed": 63412,
     "status": "ok",
     "timestamp": 1582032281368,
     "user": {
      "displayName": "Rajeev Ratan",
      "photoUrl": "https://lh3.googleusercontent.com/a-/AAuE7mCGo6aIm0tOcd5EhqWlYb0rime9sBvHS9YMpx0D2w=s64",
      "userId": "08597265227091462140"
     },
     "user_tz": 240
    },
    "id": "dUYhD66EVFZ5",
    "outputId": "84b09e29-758e-4f42-f165-786d94580ae2"
   },
   "outputs": [
    {
     "name": "stdout",
     "output_type": "stream",
     "text": [
      "Train on 10499 samples, validate on 4500 samples\n",
      "Epoch 1/25\n",
      "10499/10499 [==============================] - 3s 283us/sample - loss: 0.4282 - accuracy: 0.8181 - val_loss: 0.3110 - val_accuracy: 0.8689\n",
      "Epoch 2/25\n",
      "10499/10499 [==============================] - 2s 213us/sample - loss: 0.2462 - accuracy: 0.9146 - val_loss: 0.2181 - val_accuracy: 0.9307\n",
      "Epoch 3/25\n",
      "10499/10499 [==============================] - 2s 208us/sample - loss: 0.1912 - accuracy: 0.9413 - val_loss: 0.1869 - val_accuracy: 0.9411\n",
      "Epoch 4/25\n",
      "10499/10499 [==============================] - 2s 207us/sample - loss: 0.1735 - accuracy: 0.9466 - val_loss: 0.1761 - val_accuracy: 0.9462\n",
      "Epoch 5/25\n",
      "10499/10499 [==============================] - 2s 203us/sample - loss: 0.1668 - accuracy: 0.9503 - val_loss: 0.1736 - val_accuracy: 0.9480\n",
      "Epoch 6/25\n",
      "10499/10499 [==============================] - 2s 211us/sample - loss: 0.1636 - accuracy: 0.9511 - val_loss: 0.1700 - val_accuracy: 0.9489\n",
      "Epoch 7/25\n",
      "10499/10499 [==============================] - 2s 210us/sample - loss: 0.1620 - accuracy: 0.9505 - val_loss: 0.1690 - val_accuracy: 0.9498\n",
      "Epoch 8/25\n",
      "10499/10499 [==============================] - 2s 202us/sample - loss: 0.1607 - accuracy: 0.9505 - val_loss: 0.1674 - val_accuracy: 0.9498\n",
      "Epoch 9/25\n",
      "10499/10499 [==============================] - 2s 208us/sample - loss: 0.1595 - accuracy: 0.9510 - val_loss: 0.1661 - val_accuracy: 0.9502\n",
      "Epoch 10/25\n",
      "10499/10499 [==============================] - 2s 218us/sample - loss: 0.1585 - accuracy: 0.9505 - val_loss: 0.1631 - val_accuracy: 0.9538\n",
      "Epoch 11/25\n",
      "10499/10499 [==============================] - 2s 217us/sample - loss: 0.1578 - accuracy: 0.9522 - val_loss: 0.1624 - val_accuracy: 0.9538\n",
      "Epoch 12/25\n",
      "10499/10499 [==============================] - 2s 215us/sample - loss: 0.1565 - accuracy: 0.9520 - val_loss: 0.1618 - val_accuracy: 0.9542\n",
      "Epoch 13/25\n",
      "10499/10499 [==============================] - 2s 218us/sample - loss: 0.1554 - accuracy: 0.9523 - val_loss: 0.1615 - val_accuracy: 0.9538\n",
      "Epoch 14/25\n",
      "10499/10499 [==============================] - 2s 218us/sample - loss: 0.1546 - accuracy: 0.9530 - val_loss: 0.1603 - val_accuracy: 0.9531\n",
      "Epoch 15/25\n",
      "10499/10499 [==============================] - 2s 218us/sample - loss: 0.1537 - accuracy: 0.9529 - val_loss: 0.1588 - val_accuracy: 0.9547\n",
      "Epoch 16/25\n",
      "10499/10499 [==============================] - 2s 213us/sample - loss: 0.1527 - accuracy: 0.9536 - val_loss: 0.1588 - val_accuracy: 0.9556\n",
      "Epoch 17/25\n",
      "10499/10499 [==============================] - 2s 210us/sample - loss: 0.1516 - accuracy: 0.9543 - val_loss: 0.1571 - val_accuracy: 0.9542\n",
      "Epoch 18/25\n",
      "10499/10499 [==============================] - 2s 205us/sample - loss: 0.1511 - accuracy: 0.9542 - val_loss: 0.1567 - val_accuracy: 0.9536\n",
      "Epoch 19/25\n",
      "10499/10499 [==============================] - 2s 205us/sample - loss: 0.1501 - accuracy: 0.9539 - val_loss: 0.1572 - val_accuracy: 0.9540\n",
      "Epoch 20/25\n",
      "10499/10499 [==============================] - 2s 203us/sample - loss: 0.1494 - accuracy: 0.9540 - val_loss: 0.1563 - val_accuracy: 0.9531\n",
      "Epoch 21/25\n",
      "10499/10499 [==============================] - 2s 215us/sample - loss: 0.1488 - accuracy: 0.9546 - val_loss: 0.1555 - val_accuracy: 0.9551\n",
      "Epoch 22/25\n",
      "10499/10499 [==============================] - 2s 213us/sample - loss: 0.1481 - accuracy: 0.9550 - val_loss: 0.1544 - val_accuracy: 0.9542\n",
      "Epoch 23/25\n",
      "10499/10499 [==============================] - 2s 212us/sample - loss: 0.1474 - accuracy: 0.9553 - val_loss: 0.1543 - val_accuracy: 0.9538\n",
      "Epoch 24/25\n",
      "10499/10499 [==============================] - 2s 215us/sample - loss: 0.1470 - accuracy: 0.9555 - val_loss: 0.1554 - val_accuracy: 0.9560\n",
      "Epoch 25/25\n",
      "10499/10499 [==============================] - 2s 213us/sample - loss: 0.1464 - accuracy: 0.9560 - val_loss: 0.1541 - val_accuracy: 0.9553\n",
      "Test loss: 0.15406945841179953\n",
      "Test accuracy: 0.95533335\n"
     ]
    }
   ],
   "source": [
    "# Start Training Our Classifier \n",
    "batch_size = 10\n",
    "epochs = 25\n",
    "\n",
    "history = model.fit(X_train,\n",
    "                    y_train,\n",
    "                    batch_size = batch_size,\n",
    "                    epochs = epochs,\n",
    "                    verbose = 1,\n",
    "                    validation_data = (X_test, y_test))\n",
    "\n",
    "score = model.evaluate(X_test, y_test, verbose=0)\n",
    "print('Test loss:', score[0])\n",
    "print('Test accuracy:', score[1])"
   ]
  },
  {
   "cell_type": "code",
   "execution_count": 44,
   "metadata": {
    "colab": {
     "base_uri": "https://localhost:8080/",
     "height": 279
    },
    "colab_type": "code",
    "executionInfo": {
     "elapsed": 62903,
     "status": "ok",
     "timestamp": 1582032281370,
     "user": {
      "displayName": "Rajeev Ratan",
      "photoUrl": "https://lh3.googleusercontent.com/a-/AAuE7mCGo6aIm0tOcd5EhqWlYb0rime9sBvHS9YMpx0D2w=s64",
      "userId": "08597265227091462140"
     },
     "user_tz": 240
    },
    "id": "9YZey5CpVFZ7",
    "outputId": "861ac0f2-e78e-4ebf-ce9a-bb02a09c4c59"
   },
   "outputs": [
    {
     "data": {
      "image/png": "[encoded data removed]",
      "text/plain": [
       "<Figure size 432x288 with 1 Axes>"
      ]
     },
     "metadata": {
      "tags": []
     },
     "output_type": "display_data"
    }
   ],
   "source": [
    "# Plotting our loss charts\n",
    "import matplotlib.pyplot as plt\n",
    "\n",
    "history_dict = history.history\n",
    "\n",
    "loss_values = history_dict['loss']\n",
    "val_loss_values = history_dict['val_loss']\n",
    "epochs = range(1, len(loss_values) + 1)\n",
    "\n",
    "line1 = plt.plot(epochs, val_loss_values, label='Validation/Test Loss')\n",
    "line2 = plt.plot(epochs, loss_values, label='Training Loss')\n",
    "plt.setp(line1, linewidth=2.0, marker = '+', markersize=10.0)\n",
    "plt.setp(line2, linewidth=2.0, marker = '4', markersize=10.0)\n",
    "plt.xlabel('Epochs') \n",
    "plt.ylabel('Loss')\n",
    "plt.grid(True)\n",
    "plt.legend()\n",
    "plt.show()"
   ]
  },
  {
   "cell_type": "code",
   "execution_count": 45,
   "metadata": {
    "colab": {
     "base_uri": "https://localhost:8080/",
     "height": 279
    },
    "colab_type": "code",
    "executionInfo": {
     "elapsed": 62675,
     "status": "ok",
     "timestamp": 1582032281779,
     "user": {
      "displayName": "Rajeev Ratan",
      "photoUrl": "https://lh3.googleusercontent.com/a-/AAuE7mCGo6aIm0tOcd5EhqWlYb0rime9sBvHS9YMpx0D2w=s64",
      "userId": "08597265227091462140"
     },
     "user_tz": 240
    },
    "id": "l3KjhDw6VFZ9",
    "outputId": "9b62c58e-166e-4f2a-bbb2-ace1bfbd5899"
   },
   "outputs": [
    {
     "data": {
      "image/png": "[encoded data removed]",
      "text/plain": [
       "<Figure size 432x288 with 1 Axes>"
      ]
     },
     "metadata": {
      "tags": []
     },
     "output_type": "display_data"
    }
   ],
   "source": [
    "# Plotting our accuracy charts\n",
    "import matplotlib.pyplot as plt\n",
    "\n",
    "history_dict = history.history\n",
    "\n",
    "acc_values = history_dict['accuracy']\n",
    "val_acc_values = history_dict['val_accuracy']\n",
    "epochs = range(1, len(loss_values) + 1)\n",
    "\n",
    "line1 = plt.plot(epochs, val_acc_values, label='Validation/Test Accuracy')\n",
    "line2 = plt.plot(epochs, acc_values, label='Training Accuracy')\n",
    "plt.setp(line1, linewidth=2.0, marker = '+', markersize=10.0)\n",
    "plt.setp(line2, linewidth=2.0, marker = '4', markersize=10.0)\n",
    "plt.xlabel('Epochs') \n",
    "plt.ylabel('Accuracy')\n",
    "plt.grid(True)\n",
    "plt.legend()\n",
    "plt.show()"
   ]
  },
  {
   "cell_type": "markdown",
   "metadata": {
    "colab_type": "text",
    "id": "eWDL7NdmVFZ-"
   },
   "source": [
    "## Displaying the Classification Report and Confusion Matrix"
   ]
  },
  {
   "cell_type": "code",
   "execution_count": 46,
   "metadata": {
    "colab": {
     "base_uri": "https://localhost:8080/",
     "height": 212
    },
    "colab_type": "code",
    "executionInfo": {
     "elapsed": 972,
     "status": "ok",
     "timestamp": 1582032329314,
     "user": {
      "displayName": "Rajeev Ratan",
      "photoUrl": "https://lh3.googleusercontent.com/a-/AAuE7mCGo6aIm0tOcd5EhqWlYb0rime9sBvHS9YMpx0D2w=s64",
      "userId": "08597265227091462140"
     },
     "user_tz": 240
    },
    "id": "AO7dNFk2VFZ_",
    "outputId": "25fb3362-4031-458f-d0a2-2aa4aa9e97bd"
   },
   "outputs": [
    {
     "name": "stdout",
     "output_type": "stream",
     "text": [
      "[[3302   89]\n",
      " [ 112  997]]\n",
      "              precision    recall  f1-score   support\n",
      "\n",
      "           0       0.97      0.97      0.97      3391\n",
      "           1       0.92      0.90      0.91      1109\n",
      "\n",
      "    accuracy                           0.96      4500\n",
      "   macro avg       0.94      0.94      0.94      4500\n",
      "weighted avg       0.96      0.96      0.96      4500\n",
      "\n"
     ]
    }
   ],
   "source": [
    "predictions = model.predict(X_test)\n",
    "predictions = (predictions > 0.5)\n",
    "\n",
    "print(confusion_matrix(y_test, predictions))\n",
    "print(classification_report(y_test, predictions))"
   ]
  },
  {
   "cell_type": "markdown",
   "metadata": {
    "colab_type": "text",
    "id": "oH57OYp64pSe"
   },
   "source": [
    "# Let's a Deeper Model"
   ]
  },
  {
   "cell_type": "code",
   "execution_count": 47,
   "metadata": {
    "colab": {
     "base_uri": "https://localhost:8080/",
     "height": 372
    },
    "colab_type": "code",
    "executionInfo": {
     "elapsed": 927,
     "status": "ok",
     "timestamp": 1582032330106,
     "user": {
      "displayName": "Rajeev Ratan",
      "photoUrl": "https://lh3.googleusercontent.com/a-/AAuE7mCGo6aIm0tOcd5EhqWlYb0rime9sBvHS9YMpx0D2w=s64",
      "userId": "08597265227091462140"
     },
     "user_tz": 240
    },
    "id": "5Fy-I5ySVFaB",
    "outputId": "b9a0ef43-c5eb-4edf-f82e-a8fd986f029d"
   },
   "outputs": [
    {
     "name": "stdout",
     "output_type": "stream",
     "text": [
      "Model: \"sequential_1\"\n",
      "_________________________________________________________________\n",
      "Layer (type)                 Output Shape              Param #   \n",
      "=================================================================\n",
      "dense_2 (Dense)              (None, 270)               5130      \n",
      "_________________________________________________________________\n",
      "dropout (Dropout)            (None, 270)               0         \n",
      "_________________________________________________________________\n",
      "dense_3 (Dense)              (None, 180)               48780     \n",
      "_________________________________________________________________\n",
      "dropout_1 (Dropout)          (None, 180)               0         \n",
      "_________________________________________________________________\n",
      "dense_4 (Dense)              (None, 90)                16290     \n",
      "_________________________________________________________________\n",
      "dense_5 (Dense)              (None, 1)                 91        \n",
      "=================================================================\n",
      "Total params: 70,291\n",
      "Trainable params: 70,291\n",
      "Non-trainable params: 0\n",
      "_________________________________________________________________\n"
     ]
    }
   ],
   "source": [
    "from tensorflow.keras.regularizers import l2\n",
    "from tensorflow.keras.layers import Dropout\n",
    "\n",
    "model2 = Sequential()\n",
    "\n",
    "# Hidden Layer 1\n",
    "model2.add(Dense(270, activation='relu', input_dim=18, kernel_regularizer=l2(0.01)))\n",
    "model2.add(Dropout(0.3, noise_shape=None, seed=None))\n",
    "\n",
    "# Hidden Layer 1\n",
    "model2.add(Dense(180, activation='relu', input_dim=18, kernel_regularizer=l2(0.01)))\n",
    "model2.add(Dropout(0.3, noise_shape=None, seed=None))\n",
    "\n",
    "# Hidden Layer 2\n",
    "model2.add(Dense(90, activation = 'relu', kernel_regularizer=l2(0.01)))\n",
    "model.add(Dropout(0.3, noise_shape=None, seed=None))\n",
    "\n",
    "model2.add(Dense(1, activation='sigmoid'))\n",
    "\n",
    "model2.summary()"
   ]
  },
  {
   "cell_type": "code",
   "execution_count": 0,
   "metadata": {
    "colab": {},
    "colab_type": "code",
    "collapsed": true,
    "id": "-078tDdNVFaD"
   },
   "outputs": [],
   "source": [
    "model2.compile(loss='binary_crossentropy', optimizer='adam', metrics=['accuracy'])"
   ]
  },
  {
   "cell_type": "markdown",
   "metadata": {
    "colab_type": "text",
    "id": "p9vhDBKdVFaF"
   },
   "source": [
    "## Training our Deeper Model"
   ]
  },
  {
   "cell_type": "code",
   "execution_count": 49,
   "metadata": {
    "colab": {
     "base_uri": "https://localhost:8080/",
     "height": 959
    },
    "colab_type": "code",
    "executionInfo": {
     "elapsed": 92783,
     "status": "ok",
     "timestamp": 1582032423011,
     "user": {
      "displayName": "Rajeev Ratan",
      "photoUrl": "https://lh3.googleusercontent.com/a-/AAuE7mCGo6aIm0tOcd5EhqWlYb0rime9sBvHS9YMpx0D2w=s64",
      "userId": "08597265227091462140"
     },
     "user_tz": 240
    },
    "id": "83gAMBsUVFaG",
    "outputId": "7967feda-b534-41ec-bd70-de3e5e1f02a8"
   },
   "outputs": [
    {
     "name": "stdout",
     "output_type": "stream",
     "text": [
      "Train on 10499 samples, validate on 4500 samples\n",
      "Epoch 1/25\n",
      "10499/10499 [==============================] - 4s 402us/sample - loss: 0.6367 - accuracy: 0.9128 - val_loss: 0.2812 - val_accuracy: 0.9473\n",
      "Epoch 2/25\n",
      "10499/10499 [==============================] - 4s 344us/sample - loss: 0.2767 - accuracy: 0.9391 - val_loss: 0.2572 - val_accuracy: 0.9442\n",
      "Epoch 3/25\n",
      "10499/10499 [==============================] - 4s 346us/sample - loss: 0.2598 - accuracy: 0.9414 - val_loss: 0.2463 - val_accuracy: 0.9424\n",
      "Epoch 4/25\n",
      "10499/10499 [==============================] - 4s 348us/sample - loss: 0.2535 - accuracy: 0.9420 - val_loss: 0.2430 - val_accuracy: 0.9511\n",
      "Epoch 5/25\n",
      "10499/10499 [==============================] - 4s 341us/sample - loss: 0.2500 - accuracy: 0.9436 - val_loss: 0.2401 - val_accuracy: 0.9480\n",
      "Epoch 6/25\n",
      "10499/10499 [==============================] - 4s 341us/sample - loss: 0.2460 - accuracy: 0.9432 - val_loss: 0.2288 - val_accuracy: 0.9487\n",
      "Epoch 7/25\n",
      "10499/10499 [==============================] - 4s 335us/sample - loss: 0.2381 - accuracy: 0.9458 - val_loss: 0.2317 - val_accuracy: 0.9456\n",
      "Epoch 8/25\n",
      "10499/10499 [==============================] - 4s 341us/sample - loss: 0.2389 - accuracy: 0.9471 - val_loss: 0.2297 - val_accuracy: 0.9549\n",
      "Epoch 9/25\n",
      "10499/10499 [==============================] - 4s 337us/sample - loss: 0.2359 - accuracy: 0.9462 - val_loss: 0.2217 - val_accuracy: 0.9478\n",
      "Epoch 10/25\n",
      "10499/10499 [==============================] - 4s 388us/sample - loss: 0.2372 - accuracy: 0.9442 - val_loss: 0.2231 - val_accuracy: 0.9518\n",
      "Epoch 11/25\n",
      "10499/10499 [==============================] - 4s 390us/sample - loss: 0.2336 - accuracy: 0.9456 - val_loss: 0.2426 - val_accuracy: 0.9491\n",
      "Epoch 12/25\n",
      "10499/10499 [==============================] - 4s 379us/sample - loss: 0.2329 - accuracy: 0.9487 - val_loss: 0.2187 - val_accuracy: 0.9476\n",
      "Epoch 13/25\n",
      "10499/10499 [==============================] - 4s 348us/sample - loss: 0.2321 - accuracy: 0.9464 - val_loss: 0.2203 - val_accuracy: 0.9516\n",
      "Epoch 14/25\n",
      "10499/10499 [==============================] - 4s 338us/sample - loss: 0.2270 - accuracy: 0.9479 - val_loss: 0.2205 - val_accuracy: 0.9473\n",
      "Epoch 15/25\n",
      "10499/10499 [==============================] - 4s 338us/sample - loss: 0.2302 - accuracy: 0.9457 - val_loss: 0.2265 - val_accuracy: 0.9513\n",
      "Epoch 16/25\n",
      "10499/10499 [==============================] - 3s 326us/sample - loss: 0.2269 - accuracy: 0.9477 - val_loss: 0.2218 - val_accuracy: 0.9473\n",
      "Epoch 17/25\n",
      "10499/10499 [==============================] - 4s 342us/sample - loss: 0.2278 - accuracy: 0.9453 - val_loss: 0.2147 - val_accuracy: 0.9522\n",
      "Epoch 18/25\n",
      "10499/10499 [==============================] - 4s 347us/sample - loss: 0.2274 - accuracy: 0.9476 - val_loss: 0.2060 - val_accuracy: 0.9553\n",
      "Epoch 19/25\n",
      "10499/10499 [==============================] - 4s 347us/sample - loss: 0.2252 - accuracy: 0.9472 - val_loss: 0.2128 - val_accuracy: 0.9536\n",
      "Epoch 20/25\n",
      "10499/10499 [==============================] - 4s 351us/sample - loss: 0.2218 - accuracy: 0.9505 - val_loss: 0.2139 - val_accuracy: 0.9520\n",
      "Epoch 21/25\n",
      "10499/10499 [==============================] - 4s 346us/sample - loss: 0.2250 - accuracy: 0.9459 - val_loss: 0.2028 - val_accuracy: 0.9547\n",
      "Epoch 22/25\n",
      "10499/10499 [==============================] - 4s 340us/sample - loss: 0.2240 - accuracy: 0.9489 - val_loss: 0.2136 - val_accuracy: 0.9578\n",
      "Epoch 23/25\n",
      "10499/10499 [==============================] - 4s 335us/sample - loss: 0.2224 - accuracy: 0.9486 - val_loss: 0.2000 - val_accuracy: 0.9549\n",
      "Epoch 24/25\n",
      "10499/10499 [==============================] - 4s 340us/sample - loss: 0.2218 - accuracy: 0.9489 - val_loss: 0.2081 - val_accuracy: 0.9542\n",
      "Epoch 25/25\n",
      "10499/10499 [==============================] - 4s 346us/sample - loss: 0.2196 - accuracy: 0.9475 - val_loss: 0.2165 - val_accuracy: 0.9511\n",
      "Test loss: 0.1540685726073053\n",
      "Test accuracy: 0.95533335\n"
     ]
    }
   ],
   "source": [
    "batch_size = 10\n",
    "epochs = 25\n",
    "\n",
    "history = model2.fit(X_train,\n",
    "                    y_train,\n",
    "                    batch_size = batch_size,\n",
    "                    epochs = epochs,\n",
    "                    verbose = 1,\n",
    "                    validation_data = (X_test, y_test))\n",
    "\n",
    "score = model.evaluate(X_test, y_test, verbose=0)\n",
    "print('Test loss:', score[0])\n",
    "print('Test accuracy:', score[1])"
   ]
  },
  {
   "cell_type": "code",
   "execution_count": 50,
   "metadata": {
    "colab": {
     "base_uri": "https://localhost:8080/",
     "height": 212
    },
    "colab_type": "code",
    "executionInfo": {
     "elapsed": 92487,
     "status": "ok",
     "timestamp": 1582032423297,
     "user": {
      "displayName": "Rajeev Ratan",
      "photoUrl": "https://lh3.googleusercontent.com/a-/AAuE7mCGo6aIm0tOcd5EhqWlYb0rime9sBvHS9YMpx0D2w=s64",
      "userId": "08597265227091462140"
     },
     "user_tz": 240
    },
    "id": "-ScyC-5AVFaI",
    "outputId": "45a5ac3b-236c-4960-8dea-5006e9c2fa7e"
   },
   "outputs": [
    {
     "name": "stdout",
     "output_type": "stream",
     "text": [
      "[[3323   68]\n",
      " [ 152  957]]\n",
      "              precision    recall  f1-score   support\n",
      "\n",
      "           0       0.96      0.98      0.97      3391\n",
      "           1       0.93      0.86      0.90      1109\n",
      "\n",
      "    accuracy                           0.95      4500\n",
      "   macro avg       0.94      0.92      0.93      4500\n",
      "weighted avg       0.95      0.95      0.95      4500\n",
      "\n"
     ]
    }
   ],
   "source": [
    "predictions = model2.predict(X_test)\n",
    "predictions = (predictions > 0.5)\n",
    "\n",
    "print(confusion_matrix(y_test, predictions))\n",
    "print(classification_report(y_test, predictions))"
   ]
  },
  {
   "cell_type": "code",
   "execution_count": 0,
   "metadata": {
    "colab": {},
    "colab_type": "code",
    "collapsed": true,
    "id": "X03Izq_ndzdl"
   },
   "outputs": [],
   "source": []
  }
 ],
 "metadata": {
  "colab": {
   "collapsed_sections": [],
   "name": "8.0 Case Study 1 - Human Resources Retention.ipynb",
   "provenance": [
    {
     "file_id": "19UpKFF1-Y2GBoy1ugpgufQf6Rx4KeJuO",
     "timestamp": 1573154961639
    }
   ]
  },
  "kernelspec": {
   "display_name": "Python 3",
   "language": "python",
   "name": "python3"
  }
 },
 "nbformat": 4,
 "nbformat_minor": 1
}
